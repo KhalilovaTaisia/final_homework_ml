{
 "cells": [
  {
   "cell_type": "code",
   "execution_count": 22,
   "metadata": {},
   "outputs": [],
   "source": [
    "import pandas as pd\n",
    "from sklearn.preprocessing import OneHotEncoder, StandardScaler\n",
    "from sklearn.linear_model import LogisticRegression\n",
    "from sklearn.model_selection import train_test_split, GridSearchCV, cross_val_score\n",
    "from sklearn.metrics import RocCurveDisplay, roc_auc_score, accuracy_score, confusion_matrix\n",
    "from sklearn.ensemble import RandomForestClassifier\n",
    "from sklearn.neural_network import MLPClassifier"
   ]
  },
  {
   "cell_type": "markdown",
   "metadata": {},
   "source": [
    "# OneHotEncoder и стандартизация"
   ]
  },
  {
   "cell_type": "code",
   "execution_count": 2,
   "metadata": {},
   "outputs": [],
   "source": [
    "# Чтение датафрейма из csv\n",
    "df_ohe = pd.read_csv('data/df_feature_new.csv')"
   ]
  },
  {
   "cell_type": "code",
   "execution_count": 3,
   "metadata": {},
   "outputs": [
    {
     "data": {
      "text/html": [
       "<div>\n",
       "<style scoped>\n",
       "    .dataframe tbody tr th:only-of-type {\n",
       "        vertical-align: middle;\n",
       "    }\n",
       "\n",
       "    .dataframe tbody tr th {\n",
       "        vertical-align: top;\n",
       "    }\n",
       "\n",
       "    .dataframe thead th {\n",
       "        text-align: right;\n",
       "    }\n",
       "</style>\n",
       "<table border=\"1\" class=\"dataframe\">\n",
       "  <thead>\n",
       "    <tr style=\"text-align: right;\">\n",
       "      <th></th>\n",
       "      <th>visit_number</th>\n",
       "      <th>utm_source</th>\n",
       "      <th>utm_medium</th>\n",
       "      <th>utm_campaign</th>\n",
       "      <th>utm_adcontent</th>\n",
       "      <th>device_category</th>\n",
       "      <th>device_os</th>\n",
       "      <th>device_brand</th>\n",
       "      <th>device_screen_resolution</th>\n",
       "      <th>device_browser</th>\n",
       "      <th>target</th>\n",
       "      <th>visit_hour</th>\n",
       "      <th>visit_month</th>\n",
       "      <th>visit_day</th>\n",
       "      <th>visit_season</th>\n",
       "      <th>visit_weekday</th>\n",
       "      <th>is_Moscow_region</th>\n",
       "      <th>lat</th>\n",
       "      <th>long</th>\n",
       "    </tr>\n",
       "  </thead>\n",
       "  <tbody>\n",
       "    <tr>\n",
       "      <th>0</th>\n",
       "      <td>1</td>\n",
       "      <td>ZpYIoDJMcFzVoPFsHGJL</td>\n",
       "      <td>banner</td>\n",
       "      <td>LEoPHuyFvzoNfnzGgfcd</td>\n",
       "      <td>vCIpmpaGBnIQhyYNkXqp</td>\n",
       "      <td>mobile</td>\n",
       "      <td>Android</td>\n",
       "      <td>Huawei</td>\n",
       "      <td>360x720</td>\n",
       "      <td>Chrome</td>\n",
       "      <td>0</td>\n",
       "      <td>14</td>\n",
       "      <td>11</td>\n",
       "      <td>24</td>\n",
       "      <td>autumn</td>\n",
       "      <td>2</td>\n",
       "      <td>0</td>\n",
       "      <td>55.034639</td>\n",
       "      <td>59.529269</td>\n",
       "    </tr>\n",
       "    <tr>\n",
       "      <th>1</th>\n",
       "      <td>1</td>\n",
       "      <td>MvfHsxITijuriZxsqZqt</td>\n",
       "      <td>cpm</td>\n",
       "      <td>FTjNLDyTrXaWYgZymFkV</td>\n",
       "      <td>xhoenQgDQsgfEPYNPwKO</td>\n",
       "      <td>mobile</td>\n",
       "      <td>Android</td>\n",
       "      <td>Samsung</td>\n",
       "      <td>385x854</td>\n",
       "      <td>Samsung Internet</td>\n",
       "      <td>0</td>\n",
       "      <td>8</td>\n",
       "      <td>11</td>\n",
       "      <td>14</td>\n",
       "      <td>autumn</td>\n",
       "      <td>6</td>\n",
       "      <td>1</td>\n",
       "      <td>55.625578</td>\n",
       "      <td>37.606392</td>\n",
       "    </tr>\n",
       "    <tr>\n",
       "      <th>2</th>\n",
       "      <td>1</td>\n",
       "      <td>ZpYIoDJMcFzVoPFsHGJL</td>\n",
       "      <td>banner</td>\n",
       "      <td>LEoPHuyFvzoNfnzGgfcd</td>\n",
       "      <td>vCIpmpaGBnIQhyYNkXqp</td>\n",
       "      <td>mobile</td>\n",
       "      <td>Android</td>\n",
       "      <td>Huawei</td>\n",
       "      <td>360x720</td>\n",
       "      <td>Chrome</td>\n",
       "      <td>0</td>\n",
       "      <td>2</td>\n",
       "      <td>12</td>\n",
       "      <td>28</td>\n",
       "      <td>winter</td>\n",
       "      <td>1</td>\n",
       "      <td>0</td>\n",
       "      <td>56.009097</td>\n",
       "      <td>92.872515</td>\n",
       "    </tr>\n",
       "    <tr>\n",
       "      <th>3</th>\n",
       "      <td>1</td>\n",
       "      <td>kjsLglQLzykiRbcDiGcD</td>\n",
       "      <td>cpc</td>\n",
       "      <td>LTuZkdKfxRGVceoWkVyg</td>\n",
       "      <td>other</td>\n",
       "      <td>mobile</td>\n",
       "      <td>Android</td>\n",
       "      <td>Xiaomi</td>\n",
       "      <td>393x786</td>\n",
       "      <td>Chrome</td>\n",
       "      <td>0</td>\n",
       "      <td>5</td>\n",
       "      <td>5</td>\n",
       "      <td>29</td>\n",
       "      <td>spring</td>\n",
       "      <td>5</td>\n",
       "      <td>1</td>\n",
       "      <td>55.625578</td>\n",
       "      <td>37.606392</td>\n",
       "    </tr>\n",
       "    <tr>\n",
       "      <th>4</th>\n",
       "      <td>2</td>\n",
       "      <td>kjsLglQLzykiRbcDiGcD</td>\n",
       "      <td>cpc</td>\n",
       "      <td>LTuZkdKfxRGVceoWkVyg</td>\n",
       "      <td>JNHcPlZPxEMWDnRiyoBf</td>\n",
       "      <td>mobile</td>\n",
       "      <td>Android</td>\n",
       "      <td>Xiaomi</td>\n",
       "      <td>393x786</td>\n",
       "      <td>Chrome</td>\n",
       "      <td>0</td>\n",
       "      <td>5</td>\n",
       "      <td>5</td>\n",
       "      <td>29</td>\n",
       "      <td>spring</td>\n",
       "      <td>5</td>\n",
       "      <td>1</td>\n",
       "      <td>55.625578</td>\n",
       "      <td>37.606392</td>\n",
       "    </tr>\n",
       "  </tbody>\n",
       "</table>\n",
       "</div>"
      ],
      "text/plain": [
       "   visit_number            utm_source utm_medium          utm_campaign  \\\n",
       "0             1  ZpYIoDJMcFzVoPFsHGJL     banner  LEoPHuyFvzoNfnzGgfcd   \n",
       "1             1  MvfHsxITijuriZxsqZqt        cpm  FTjNLDyTrXaWYgZymFkV   \n",
       "2             1  ZpYIoDJMcFzVoPFsHGJL     banner  LEoPHuyFvzoNfnzGgfcd   \n",
       "3             1  kjsLglQLzykiRbcDiGcD        cpc  LTuZkdKfxRGVceoWkVyg   \n",
       "4             2  kjsLglQLzykiRbcDiGcD        cpc  LTuZkdKfxRGVceoWkVyg   \n",
       "\n",
       "          utm_adcontent device_category device_os device_brand  \\\n",
       "0  vCIpmpaGBnIQhyYNkXqp          mobile   Android       Huawei   \n",
       "1  xhoenQgDQsgfEPYNPwKO          mobile   Android      Samsung   \n",
       "2  vCIpmpaGBnIQhyYNkXqp          mobile   Android       Huawei   \n",
       "3                 other          mobile   Android       Xiaomi   \n",
       "4  JNHcPlZPxEMWDnRiyoBf          mobile   Android       Xiaomi   \n",
       "\n",
       "  device_screen_resolution    device_browser  target  visit_hour  visit_month  \\\n",
       "0                  360x720            Chrome       0          14           11   \n",
       "1                  385x854  Samsung Internet       0           8           11   \n",
       "2                  360x720            Chrome       0           2           12   \n",
       "3                  393x786            Chrome       0           5            5   \n",
       "4                  393x786            Chrome       0           5            5   \n",
       "\n",
       "   visit_day visit_season  visit_weekday  is_Moscow_region        lat  \\\n",
       "0         24       autumn              2                 0  55.034639   \n",
       "1         14       autumn              6                 1  55.625578   \n",
       "2         28       winter              1                 0  56.009097   \n",
       "3         29       spring              5                 1  55.625578   \n",
       "4         29       spring              5                 1  55.625578   \n",
       "\n",
       "        long  \n",
       "0  59.529269  \n",
       "1  37.606392  \n",
       "2  92.872515  \n",
       "3  37.606392  \n",
       "4  37.606392  "
      ]
     },
     "execution_count": 3,
     "metadata": {},
     "output_type": "execute_result"
    }
   ],
   "source": [
    "df_ohe.head()"
   ]
  },
  {
   "cell_type": "markdown",
   "metadata": {},
   "source": [
    "## Стандартизация"
   ]
  },
  {
   "cell_type": "code",
   "execution_count": 4,
   "metadata": {},
   "outputs": [],
   "source": [
    "std_scaler = StandardScaler()"
   ]
  },
  {
   "cell_type": "code",
   "execution_count": 5,
   "metadata": {},
   "outputs": [],
   "source": [
    "# Создадим список численных переменных\n",
    "numerical_values = ['visit_number', 'visit_hour', 'visit_month', 'visit_day', 'visit_weekday', 'lat', 'long']"
   ]
  },
  {
   "cell_type": "code",
   "execution_count": 6,
   "metadata": {},
   "outputs": [],
   "source": [
    "std_numerical_values = std_scaler.fit_transform(df_ohe[numerical_values])"
   ]
  },
  {
   "cell_type": "code",
   "execution_count": 7,
   "metadata": {},
   "outputs": [],
   "source": [
    "# Заменим числовые признаки на стандартизированные\n",
    "df_ohe[numerical_values] = std_numerical_values"
   ]
  },
  {
   "cell_type": "code",
   "execution_count": 8,
   "metadata": {},
   "outputs": [
    {
     "data": {
      "text/html": [
       "<div>\n",
       "<style scoped>\n",
       "    .dataframe tbody tr th:only-of-type {\n",
       "        vertical-align: middle;\n",
       "    }\n",
       "\n",
       "    .dataframe tbody tr th {\n",
       "        vertical-align: top;\n",
       "    }\n",
       "\n",
       "    .dataframe thead th {\n",
       "        text-align: right;\n",
       "    }\n",
       "</style>\n",
       "<table border=\"1\" class=\"dataframe\">\n",
       "  <thead>\n",
       "    <tr style=\"text-align: right;\">\n",
       "      <th></th>\n",
       "      <th>visit_number</th>\n",
       "      <th>utm_source</th>\n",
       "      <th>utm_medium</th>\n",
       "      <th>utm_campaign</th>\n",
       "      <th>utm_adcontent</th>\n",
       "      <th>device_category</th>\n",
       "      <th>device_os</th>\n",
       "      <th>device_brand</th>\n",
       "      <th>device_screen_resolution</th>\n",
       "      <th>device_browser</th>\n",
       "      <th>target</th>\n",
       "      <th>visit_hour</th>\n",
       "      <th>visit_month</th>\n",
       "      <th>visit_day</th>\n",
       "      <th>visit_season</th>\n",
       "      <th>visit_weekday</th>\n",
       "      <th>is_Moscow_region</th>\n",
       "      <th>lat</th>\n",
       "      <th>long</th>\n",
       "    </tr>\n",
       "  </thead>\n",
       "  <tbody>\n",
       "    <tr>\n",
       "      <th>0</th>\n",
       "      <td>-0.553993</td>\n",
       "      <td>ZpYIoDJMcFzVoPFsHGJL</td>\n",
       "      <td>banner</td>\n",
       "      <td>LEoPHuyFvzoNfnzGgfcd</td>\n",
       "      <td>vCIpmpaGBnIQhyYNkXqp</td>\n",
       "      <td>mobile</td>\n",
       "      <td>Android</td>\n",
       "      <td>Huawei</td>\n",
       "      <td>360x720</td>\n",
       "      <td>Chrome</td>\n",
       "      <td>0</td>\n",
       "      <td>0.062170</td>\n",
       "      <td>0.758178</td>\n",
       "      <td>0.802168</td>\n",
       "      <td>autumn</td>\n",
       "      <td>-0.403258</td>\n",
       "      <td>0</td>\n",
       "      <td>0.169023</td>\n",
       "      <td>0.814880</td>\n",
       "    </tr>\n",
       "    <tr>\n",
       "      <th>1</th>\n",
       "      <td>-0.553993</td>\n",
       "      <td>MvfHsxITijuriZxsqZqt</td>\n",
       "      <td>cpm</td>\n",
       "      <td>FTjNLDyTrXaWYgZymFkV</td>\n",
       "      <td>xhoenQgDQsgfEPYNPwKO</td>\n",
       "      <td>mobile</td>\n",
       "      <td>Android</td>\n",
       "      <td>Samsung</td>\n",
       "      <td>385x854</td>\n",
       "      <td>Samsung Internet</td>\n",
       "      <td>0</td>\n",
       "      <td>-0.918264</td>\n",
       "      <td>0.758178</td>\n",
       "      <td>-0.335706</td>\n",
       "      <td>autumn</td>\n",
       "      <td>1.613447</td>\n",
       "      <td>1</td>\n",
       "      <td>0.225708</td>\n",
       "      <td>-0.204965</td>\n",
       "    </tr>\n",
       "    <tr>\n",
       "      <th>2</th>\n",
       "      <td>-0.553993</td>\n",
       "      <td>ZpYIoDJMcFzVoPFsHGJL</td>\n",
       "      <td>banner</td>\n",
       "      <td>LEoPHuyFvzoNfnzGgfcd</td>\n",
       "      <td>vCIpmpaGBnIQhyYNkXqp</td>\n",
       "      <td>mobile</td>\n",
       "      <td>Android</td>\n",
       "      <td>Huawei</td>\n",
       "      <td>360x720</td>\n",
       "      <td>Chrome</td>\n",
       "      <td>0</td>\n",
       "      <td>-1.898698</td>\n",
       "      <td>1.212820</td>\n",
       "      <td>1.257318</td>\n",
       "      <td>winter</td>\n",
       "      <td>-0.907434</td>\n",
       "      <td>0</td>\n",
       "      <td>0.262497</td>\n",
       "      <td>2.365996</td>\n",
       "    </tr>\n",
       "    <tr>\n",
       "      <th>3</th>\n",
       "      <td>-0.553993</td>\n",
       "      <td>kjsLglQLzykiRbcDiGcD</td>\n",
       "      <td>cpc</td>\n",
       "      <td>LTuZkdKfxRGVceoWkVyg</td>\n",
       "      <td>other</td>\n",
       "      <td>mobile</td>\n",
       "      <td>Android</td>\n",
       "      <td>Xiaomi</td>\n",
       "      <td>393x786</td>\n",
       "      <td>Chrome</td>\n",
       "      <td>0</td>\n",
       "      <td>-1.408481</td>\n",
       "      <td>-1.969674</td>\n",
       "      <td>1.371105</td>\n",
       "      <td>spring</td>\n",
       "      <td>1.109271</td>\n",
       "      <td>1</td>\n",
       "      <td>0.225708</td>\n",
       "      <td>-0.204965</td>\n",
       "    </tr>\n",
       "    <tr>\n",
       "      <th>4</th>\n",
       "      <td>0.851660</td>\n",
       "      <td>kjsLglQLzykiRbcDiGcD</td>\n",
       "      <td>cpc</td>\n",
       "      <td>LTuZkdKfxRGVceoWkVyg</td>\n",
       "      <td>JNHcPlZPxEMWDnRiyoBf</td>\n",
       "      <td>mobile</td>\n",
       "      <td>Android</td>\n",
       "      <td>Xiaomi</td>\n",
       "      <td>393x786</td>\n",
       "      <td>Chrome</td>\n",
       "      <td>0</td>\n",
       "      <td>-1.408481</td>\n",
       "      <td>-1.969674</td>\n",
       "      <td>1.371105</td>\n",
       "      <td>spring</td>\n",
       "      <td>1.109271</td>\n",
       "      <td>1</td>\n",
       "      <td>0.225708</td>\n",
       "      <td>-0.204965</td>\n",
       "    </tr>\n",
       "  </tbody>\n",
       "</table>\n",
       "</div>"
      ],
      "text/plain": [
       "   visit_number            utm_source utm_medium          utm_campaign  \\\n",
       "0     -0.553993  ZpYIoDJMcFzVoPFsHGJL     banner  LEoPHuyFvzoNfnzGgfcd   \n",
       "1     -0.553993  MvfHsxITijuriZxsqZqt        cpm  FTjNLDyTrXaWYgZymFkV   \n",
       "2     -0.553993  ZpYIoDJMcFzVoPFsHGJL     banner  LEoPHuyFvzoNfnzGgfcd   \n",
       "3     -0.553993  kjsLglQLzykiRbcDiGcD        cpc  LTuZkdKfxRGVceoWkVyg   \n",
       "4      0.851660  kjsLglQLzykiRbcDiGcD        cpc  LTuZkdKfxRGVceoWkVyg   \n",
       "\n",
       "          utm_adcontent device_category device_os device_brand  \\\n",
       "0  vCIpmpaGBnIQhyYNkXqp          mobile   Android       Huawei   \n",
       "1  xhoenQgDQsgfEPYNPwKO          mobile   Android      Samsung   \n",
       "2  vCIpmpaGBnIQhyYNkXqp          mobile   Android       Huawei   \n",
       "3                 other          mobile   Android       Xiaomi   \n",
       "4  JNHcPlZPxEMWDnRiyoBf          mobile   Android       Xiaomi   \n",
       "\n",
       "  device_screen_resolution    device_browser  target  visit_hour  visit_month  \\\n",
       "0                  360x720            Chrome       0    0.062170     0.758178   \n",
       "1                  385x854  Samsung Internet       0   -0.918264     0.758178   \n",
       "2                  360x720            Chrome       0   -1.898698     1.212820   \n",
       "3                  393x786            Chrome       0   -1.408481    -1.969674   \n",
       "4                  393x786            Chrome       0   -1.408481    -1.969674   \n",
       "\n",
       "   visit_day visit_season  visit_weekday  is_Moscow_region       lat      long  \n",
       "0   0.802168       autumn      -0.403258                 0  0.169023  0.814880  \n",
       "1  -0.335706       autumn       1.613447                 1  0.225708 -0.204965  \n",
       "2   1.257318       winter      -0.907434                 0  0.262497  2.365996  \n",
       "3   1.371105       spring       1.109271                 1  0.225708 -0.204965  \n",
       "4   1.371105       spring       1.109271                 1  0.225708 -0.204965  "
      ]
     },
     "execution_count": 8,
     "metadata": {},
     "output_type": "execute_result"
    }
   ],
   "source": [
    "df_ohe.head()"
   ]
  },
  {
   "cell_type": "markdown",
   "metadata": {},
   "source": [
    "## OheHotEncoder"
   ]
  },
  {
   "cell_type": "code",
   "execution_count": 9,
   "metadata": {},
   "outputs": [],
   "source": [
    "ohe = OneHotEncoder(sparse = False)"
   ]
  },
  {
   "cell_type": "code",
   "execution_count": 10,
   "metadata": {},
   "outputs": [],
   "source": [
    "# Создадим список категориальных переменных\n",
    "categorical_values = ['utm_source', 'utm_medium', 'utm_campaign', 'utm_adcontent', 'device_category', 'device_os', 'device_brand', 'device_screen_resolution', 'device_browser', 'visit_season']"
   ]
  },
  {
   "cell_type": "code",
   "execution_count": 11,
   "metadata": {},
   "outputs": [
    {
     "name": "stderr",
     "output_type": "stream",
     "text": [
      "C:\\Users\\lenovo\\anaconda\\lib\\site-packages\\sklearn\\preprocessing\\_encoders.py:828: FutureWarning: `sparse` was renamed to `sparse_output` in version 1.2 and will be removed in 1.4. `sparse_output` is ignored unless you leave `sparse` to its default value.\n",
      "  warnings.warn(\n"
     ]
    }
   ],
   "source": [
    "ohe_categorical_values = ohe.fit_transform(df_ohe[categorical_values])"
   ]
  },
  {
   "cell_type": "code",
   "execution_count": 12,
   "metadata": {},
   "outputs": [
    {
     "name": "stderr",
     "output_type": "stream",
     "text": [
      "C:\\Users\\lenovo\\AppData\\Local\\Temp\\ipykernel_45544\\1068616506.py:1: PerformanceWarning: DataFrame is highly fragmented.  This is usually the result of calling `frame.insert` many times, which has poor performance.  Consider joining all columns at once using pd.concat(axis=1) instead. To get a de-fragmented frame, use `newframe = frame.copy()`\n",
      "  df_ohe[ohe.get_feature_names_out()] = ohe_categorical_values.astype(int)\n",
      "C:\\Users\\lenovo\\AppData\\Local\\Temp\\ipykernel_45544\\1068616506.py:1: PerformanceWarning: DataFrame is highly fragmented.  This is usually the result of calling `frame.insert` many times, which has poor performance.  Consider joining all columns at once using pd.concat(axis=1) instead. To get a de-fragmented frame, use `newframe = frame.copy()`\n",
      "  df_ohe[ohe.get_feature_names_out()] = ohe_categorical_values.astype(int)\n",
      "C:\\Users\\lenovo\\AppData\\Local\\Temp\\ipykernel_45544\\1068616506.py:1: PerformanceWarning: DataFrame is highly fragmented.  This is usually the result of calling `frame.insert` many times, which has poor performance.  Consider joining all columns at once using pd.concat(axis=1) instead. To get a de-fragmented frame, use `newframe = frame.copy()`\n",
      "  df_ohe[ohe.get_feature_names_out()] = ohe_categorical_values.astype(int)\n",
      "C:\\Users\\lenovo\\AppData\\Local\\Temp\\ipykernel_45544\\1068616506.py:1: PerformanceWarning: DataFrame is highly fragmented.  This is usually the result of calling `frame.insert` many times, which has poor performance.  Consider joining all columns at once using pd.concat(axis=1) instead. To get a de-fragmented frame, use `newframe = frame.copy()`\n",
      "  df_ohe[ohe.get_feature_names_out()] = ohe_categorical_values.astype(int)\n",
      "C:\\Users\\lenovo\\AppData\\Local\\Temp\\ipykernel_45544\\1068616506.py:1: PerformanceWarning: DataFrame is highly fragmented.  This is usually the result of calling `frame.insert` many times, which has poor performance.  Consider joining all columns at once using pd.concat(axis=1) instead. To get a de-fragmented frame, use `newframe = frame.copy()`\n",
      "  df_ohe[ohe.get_feature_names_out()] = ohe_categorical_values.astype(int)\n",
      "C:\\Users\\lenovo\\AppData\\Local\\Temp\\ipykernel_45544\\1068616506.py:1: PerformanceWarning: DataFrame is highly fragmented.  This is usually the result of calling `frame.insert` many times, which has poor performance.  Consider joining all columns at once using pd.concat(axis=1) instead. To get a de-fragmented frame, use `newframe = frame.copy()`\n",
      "  df_ohe[ohe.get_feature_names_out()] = ohe_categorical_values.astype(int)\n",
      "C:\\Users\\lenovo\\AppData\\Local\\Temp\\ipykernel_45544\\1068616506.py:1: PerformanceWarning: DataFrame is highly fragmented.  This is usually the result of calling `frame.insert` many times, which has poor performance.  Consider joining all columns at once using pd.concat(axis=1) instead. To get a de-fragmented frame, use `newframe = frame.copy()`\n",
      "  df_ohe[ohe.get_feature_names_out()] = ohe_categorical_values.astype(int)\n",
      "C:\\Users\\lenovo\\AppData\\Local\\Temp\\ipykernel_45544\\1068616506.py:1: PerformanceWarning: DataFrame is highly fragmented.  This is usually the result of calling `frame.insert` many times, which has poor performance.  Consider joining all columns at once using pd.concat(axis=1) instead. To get a de-fragmented frame, use `newframe = frame.copy()`\n",
      "  df_ohe[ohe.get_feature_names_out()] = ohe_categorical_values.astype(int)\n",
      "C:\\Users\\lenovo\\AppData\\Local\\Temp\\ipykernel_45544\\1068616506.py:1: PerformanceWarning: DataFrame is highly fragmented.  This is usually the result of calling `frame.insert` many times, which has poor performance.  Consider joining all columns at once using pd.concat(axis=1) instead. To get a de-fragmented frame, use `newframe = frame.copy()`\n",
      "  df_ohe[ohe.get_feature_names_out()] = ohe_categorical_values.astype(int)\n",
      "C:\\Users\\lenovo\\AppData\\Local\\Temp\\ipykernel_45544\\1068616506.py:1: PerformanceWarning: DataFrame is highly fragmented.  This is usually the result of calling `frame.insert` many times, which has poor performance.  Consider joining all columns at once using pd.concat(axis=1) instead. To get a de-fragmented frame, use `newframe = frame.copy()`\n",
      "  df_ohe[ohe.get_feature_names_out()] = ohe_categorical_values.astype(int)\n",
      "C:\\Users\\lenovo\\AppData\\Local\\Temp\\ipykernel_45544\\1068616506.py:1: PerformanceWarning: DataFrame is highly fragmented.  This is usually the result of calling `frame.insert` many times, which has poor performance.  Consider joining all columns at once using pd.concat(axis=1) instead. To get a de-fragmented frame, use `newframe = frame.copy()`\n",
      "  df_ohe[ohe.get_feature_names_out()] = ohe_categorical_values.astype(int)\n",
      "C:\\Users\\lenovo\\AppData\\Local\\Temp\\ipykernel_45544\\1068616506.py:1: PerformanceWarning: DataFrame is highly fragmented.  This is usually the result of calling `frame.insert` many times, which has poor performance.  Consider joining all columns at once using pd.concat(axis=1) instead. To get a de-fragmented frame, use `newframe = frame.copy()`\n",
      "  df_ohe[ohe.get_feature_names_out()] = ohe_categorical_values.astype(int)\n",
      "C:\\Users\\lenovo\\AppData\\Local\\Temp\\ipykernel_45544\\1068616506.py:1: PerformanceWarning: DataFrame is highly fragmented.  This is usually the result of calling `frame.insert` many times, which has poor performance.  Consider joining all columns at once using pd.concat(axis=1) instead. To get a de-fragmented frame, use `newframe = frame.copy()`\n",
      "  df_ohe[ohe.get_feature_names_out()] = ohe_categorical_values.astype(int)\n",
      "C:\\Users\\lenovo\\AppData\\Local\\Temp\\ipykernel_45544\\1068616506.py:1: PerformanceWarning: DataFrame is highly fragmented.  This is usually the result of calling `frame.insert` many times, which has poor performance.  Consider joining all columns at once using pd.concat(axis=1) instead. To get a de-fragmented frame, use `newframe = frame.copy()`\n",
      "  df_ohe[ohe.get_feature_names_out()] = ohe_categorical_values.astype(int)\n",
      "C:\\Users\\lenovo\\AppData\\Local\\Temp\\ipykernel_45544\\1068616506.py:1: PerformanceWarning: DataFrame is highly fragmented.  This is usually the result of calling `frame.insert` many times, which has poor performance.  Consider joining all columns at once using pd.concat(axis=1) instead. To get a de-fragmented frame, use `newframe = frame.copy()`\n",
      "  df_ohe[ohe.get_feature_names_out()] = ohe_categorical_values.astype(int)\n",
      "C:\\Users\\lenovo\\AppData\\Local\\Temp\\ipykernel_45544\\1068616506.py:1: PerformanceWarning: DataFrame is highly fragmented.  This is usually the result of calling `frame.insert` many times, which has poor performance.  Consider joining all columns at once using pd.concat(axis=1) instead. To get a de-fragmented frame, use `newframe = frame.copy()`\n",
      "  df_ohe[ohe.get_feature_names_out()] = ohe_categorical_values.astype(int)\n",
      "C:\\Users\\lenovo\\AppData\\Local\\Temp\\ipykernel_45544\\1068616506.py:1: PerformanceWarning: DataFrame is highly fragmented.  This is usually the result of calling `frame.insert` many times, which has poor performance.  Consider joining all columns at once using pd.concat(axis=1) instead. To get a de-fragmented frame, use `newframe = frame.copy()`\n",
      "  df_ohe[ohe.get_feature_names_out()] = ohe_categorical_values.astype(int)\n",
      "C:\\Users\\lenovo\\AppData\\Local\\Temp\\ipykernel_45544\\1068616506.py:1: PerformanceWarning: DataFrame is highly fragmented.  This is usually the result of calling `frame.insert` many times, which has poor performance.  Consider joining all columns at once using pd.concat(axis=1) instead. To get a de-fragmented frame, use `newframe = frame.copy()`\n",
      "  df_ohe[ohe.get_feature_names_out()] = ohe_categorical_values.astype(int)\n",
      "C:\\Users\\lenovo\\AppData\\Local\\Temp\\ipykernel_45544\\1068616506.py:1: PerformanceWarning: DataFrame is highly fragmented.  This is usually the result of calling `frame.insert` many times, which has poor performance.  Consider joining all columns at once using pd.concat(axis=1) instead. To get a de-fragmented frame, use `newframe = frame.copy()`\n",
      "  df_ohe[ohe.get_feature_names_out()] = ohe_categorical_values.astype(int)\n",
      "C:\\Users\\lenovo\\AppData\\Local\\Temp\\ipykernel_45544\\1068616506.py:1: PerformanceWarning: DataFrame is highly fragmented.  This is usually the result of calling `frame.insert` many times, which has poor performance.  Consider joining all columns at once using pd.concat(axis=1) instead. To get a de-fragmented frame, use `newframe = frame.copy()`\n",
      "  df_ohe[ohe.get_feature_names_out()] = ohe_categorical_values.astype(int)\n",
      "C:\\Users\\lenovo\\AppData\\Local\\Temp\\ipykernel_45544\\1068616506.py:1: PerformanceWarning: DataFrame is highly fragmented.  This is usually the result of calling `frame.insert` many times, which has poor performance.  Consider joining all columns at once using pd.concat(axis=1) instead. To get a de-fragmented frame, use `newframe = frame.copy()`\n",
      "  df_ohe[ohe.get_feature_names_out()] = ohe_categorical_values.astype(int)\n",
      "C:\\Users\\lenovo\\AppData\\Local\\Temp\\ipykernel_45544\\1068616506.py:1: PerformanceWarning: DataFrame is highly fragmented.  This is usually the result of calling `frame.insert` many times, which has poor performance.  Consider joining all columns at once using pd.concat(axis=1) instead. To get a de-fragmented frame, use `newframe = frame.copy()`\n",
      "  df_ohe[ohe.get_feature_names_out()] = ohe_categorical_values.astype(int)\n",
      "C:\\Users\\lenovo\\AppData\\Local\\Temp\\ipykernel_45544\\1068616506.py:1: PerformanceWarning: DataFrame is highly fragmented.  This is usually the result of calling `frame.insert` many times, which has poor performance.  Consider joining all columns at once using pd.concat(axis=1) instead. To get a de-fragmented frame, use `newframe = frame.copy()`\n",
      "  df_ohe[ohe.get_feature_names_out()] = ohe_categorical_values.astype(int)\n",
      "C:\\Users\\lenovo\\AppData\\Local\\Temp\\ipykernel_45544\\1068616506.py:1: PerformanceWarning: DataFrame is highly fragmented.  This is usually the result of calling `frame.insert` many times, which has poor performance.  Consider joining all columns at once using pd.concat(axis=1) instead. To get a de-fragmented frame, use `newframe = frame.copy()`\n",
      "  df_ohe[ohe.get_feature_names_out()] = ohe_categorical_values.astype(int)\n",
      "C:\\Users\\lenovo\\AppData\\Local\\Temp\\ipykernel_45544\\1068616506.py:1: PerformanceWarning: DataFrame is highly fragmented.  This is usually the result of calling `frame.insert` many times, which has poor performance.  Consider joining all columns at once using pd.concat(axis=1) instead. To get a de-fragmented frame, use `newframe = frame.copy()`\n",
      "  df_ohe[ohe.get_feature_names_out()] = ohe_categorical_values.astype(int)\n",
      "C:\\Users\\lenovo\\AppData\\Local\\Temp\\ipykernel_45544\\1068616506.py:1: PerformanceWarning: DataFrame is highly fragmented.  This is usually the result of calling `frame.insert` many times, which has poor performance.  Consider joining all columns at once using pd.concat(axis=1) instead. To get a de-fragmented frame, use `newframe = frame.copy()`\n",
      "  df_ohe[ohe.get_feature_names_out()] = ohe_categorical_values.astype(int)\n",
      "C:\\Users\\lenovo\\AppData\\Local\\Temp\\ipykernel_45544\\1068616506.py:1: PerformanceWarning: DataFrame is highly fragmented.  This is usually the result of calling `frame.insert` many times, which has poor performance.  Consider joining all columns at once using pd.concat(axis=1) instead. To get a de-fragmented frame, use `newframe = frame.copy()`\n",
      "  df_ohe[ohe.get_feature_names_out()] = ohe_categorical_values.astype(int)\n",
      "C:\\Users\\lenovo\\AppData\\Local\\Temp\\ipykernel_45544\\1068616506.py:1: PerformanceWarning: DataFrame is highly fragmented.  This is usually the result of calling `frame.insert` many times, which has poor performance.  Consider joining all columns at once using pd.concat(axis=1) instead. To get a de-fragmented frame, use `newframe = frame.copy()`\n",
      "  df_ohe[ohe.get_feature_names_out()] = ohe_categorical_values.astype(int)\n"
     ]
    },
    {
     "name": "stderr",
     "output_type": "stream",
     "text": [
      "C:\\Users\\lenovo\\AppData\\Local\\Temp\\ipykernel_45544\\1068616506.py:1: PerformanceWarning: DataFrame is highly fragmented.  This is usually the result of calling `frame.insert` many times, which has poor performance.  Consider joining all columns at once using pd.concat(axis=1) instead. To get a de-fragmented frame, use `newframe = frame.copy()`\n",
      "  df_ohe[ohe.get_feature_names_out()] = ohe_categorical_values.astype(int)\n",
      "C:\\Users\\lenovo\\AppData\\Local\\Temp\\ipykernel_45544\\1068616506.py:1: PerformanceWarning: DataFrame is highly fragmented.  This is usually the result of calling `frame.insert` many times, which has poor performance.  Consider joining all columns at once using pd.concat(axis=1) instead. To get a de-fragmented frame, use `newframe = frame.copy()`\n",
      "  df_ohe[ohe.get_feature_names_out()] = ohe_categorical_values.astype(int)\n",
      "C:\\Users\\lenovo\\AppData\\Local\\Temp\\ipykernel_45544\\1068616506.py:1: PerformanceWarning: DataFrame is highly fragmented.  This is usually the result of calling `frame.insert` many times, which has poor performance.  Consider joining all columns at once using pd.concat(axis=1) instead. To get a de-fragmented frame, use `newframe = frame.copy()`\n",
      "  df_ohe[ohe.get_feature_names_out()] = ohe_categorical_values.astype(int)\n",
      "C:\\Users\\lenovo\\AppData\\Local\\Temp\\ipykernel_45544\\1068616506.py:1: PerformanceWarning: DataFrame is highly fragmented.  This is usually the result of calling `frame.insert` many times, which has poor performance.  Consider joining all columns at once using pd.concat(axis=1) instead. To get a de-fragmented frame, use `newframe = frame.copy()`\n",
      "  df_ohe[ohe.get_feature_names_out()] = ohe_categorical_values.astype(int)\n",
      "C:\\Users\\lenovo\\AppData\\Local\\Temp\\ipykernel_45544\\1068616506.py:1: PerformanceWarning: DataFrame is highly fragmented.  This is usually the result of calling `frame.insert` many times, which has poor performance.  Consider joining all columns at once using pd.concat(axis=1) instead. To get a de-fragmented frame, use `newframe = frame.copy()`\n",
      "  df_ohe[ohe.get_feature_names_out()] = ohe_categorical_values.astype(int)\n",
      "C:\\Users\\lenovo\\AppData\\Local\\Temp\\ipykernel_45544\\1068616506.py:1: PerformanceWarning: DataFrame is highly fragmented.  This is usually the result of calling `frame.insert` many times, which has poor performance.  Consider joining all columns at once using pd.concat(axis=1) instead. To get a de-fragmented frame, use `newframe = frame.copy()`\n",
      "  df_ohe[ohe.get_feature_names_out()] = ohe_categorical_values.astype(int)\n",
      "C:\\Users\\lenovo\\AppData\\Local\\Temp\\ipykernel_45544\\1068616506.py:1: PerformanceWarning: DataFrame is highly fragmented.  This is usually the result of calling `frame.insert` many times, which has poor performance.  Consider joining all columns at once using pd.concat(axis=1) instead. To get a de-fragmented frame, use `newframe = frame.copy()`\n",
      "  df_ohe[ohe.get_feature_names_out()] = ohe_categorical_values.astype(int)\n",
      "C:\\Users\\lenovo\\AppData\\Local\\Temp\\ipykernel_45544\\1068616506.py:1: PerformanceWarning: DataFrame is highly fragmented.  This is usually the result of calling `frame.insert` many times, which has poor performance.  Consider joining all columns at once using pd.concat(axis=1) instead. To get a de-fragmented frame, use `newframe = frame.copy()`\n",
      "  df_ohe[ohe.get_feature_names_out()] = ohe_categorical_values.astype(int)\n",
      "C:\\Users\\lenovo\\AppData\\Local\\Temp\\ipykernel_45544\\1068616506.py:1: PerformanceWarning: DataFrame is highly fragmented.  This is usually the result of calling `frame.insert` many times, which has poor performance.  Consider joining all columns at once using pd.concat(axis=1) instead. To get a de-fragmented frame, use `newframe = frame.copy()`\n",
      "  df_ohe[ohe.get_feature_names_out()] = ohe_categorical_values.astype(int)\n",
      "C:\\Users\\lenovo\\AppData\\Local\\Temp\\ipykernel_45544\\1068616506.py:1: PerformanceWarning: DataFrame is highly fragmented.  This is usually the result of calling `frame.insert` many times, which has poor performance.  Consider joining all columns at once using pd.concat(axis=1) instead. To get a de-fragmented frame, use `newframe = frame.copy()`\n",
      "  df_ohe[ohe.get_feature_names_out()] = ohe_categorical_values.astype(int)\n",
      "C:\\Users\\lenovo\\AppData\\Local\\Temp\\ipykernel_45544\\1068616506.py:1: PerformanceWarning: DataFrame is highly fragmented.  This is usually the result of calling `frame.insert` many times, which has poor performance.  Consider joining all columns at once using pd.concat(axis=1) instead. To get a de-fragmented frame, use `newframe = frame.copy()`\n",
      "  df_ohe[ohe.get_feature_names_out()] = ohe_categorical_values.astype(int)\n",
      "C:\\Users\\lenovo\\AppData\\Local\\Temp\\ipykernel_45544\\1068616506.py:1: PerformanceWarning: DataFrame is highly fragmented.  This is usually the result of calling `frame.insert` many times, which has poor performance.  Consider joining all columns at once using pd.concat(axis=1) instead. To get a de-fragmented frame, use `newframe = frame.copy()`\n",
      "  df_ohe[ohe.get_feature_names_out()] = ohe_categorical_values.astype(int)\n",
      "C:\\Users\\lenovo\\AppData\\Local\\Temp\\ipykernel_45544\\1068616506.py:1: PerformanceWarning: DataFrame is highly fragmented.  This is usually the result of calling `frame.insert` many times, which has poor performance.  Consider joining all columns at once using pd.concat(axis=1) instead. To get a de-fragmented frame, use `newframe = frame.copy()`\n",
      "  df_ohe[ohe.get_feature_names_out()] = ohe_categorical_values.astype(int)\n",
      "C:\\Users\\lenovo\\AppData\\Local\\Temp\\ipykernel_45544\\1068616506.py:1: PerformanceWarning: DataFrame is highly fragmented.  This is usually the result of calling `frame.insert` many times, which has poor performance.  Consider joining all columns at once using pd.concat(axis=1) instead. To get a de-fragmented frame, use `newframe = frame.copy()`\n",
      "  df_ohe[ohe.get_feature_names_out()] = ohe_categorical_values.astype(int)\n",
      "C:\\Users\\lenovo\\AppData\\Local\\Temp\\ipykernel_45544\\1068616506.py:1: PerformanceWarning: DataFrame is highly fragmented.  This is usually the result of calling `frame.insert` many times, which has poor performance.  Consider joining all columns at once using pd.concat(axis=1) instead. To get a de-fragmented frame, use `newframe = frame.copy()`\n",
      "  df_ohe[ohe.get_feature_names_out()] = ohe_categorical_values.astype(int)\n",
      "C:\\Users\\lenovo\\AppData\\Local\\Temp\\ipykernel_45544\\1068616506.py:1: PerformanceWarning: DataFrame is highly fragmented.  This is usually the result of calling `frame.insert` many times, which has poor performance.  Consider joining all columns at once using pd.concat(axis=1) instead. To get a de-fragmented frame, use `newframe = frame.copy()`\n",
      "  df_ohe[ohe.get_feature_names_out()] = ohe_categorical_values.astype(int)\n",
      "C:\\Users\\lenovo\\AppData\\Local\\Temp\\ipykernel_45544\\1068616506.py:1: PerformanceWarning: DataFrame is highly fragmented.  This is usually the result of calling `frame.insert` many times, which has poor performance.  Consider joining all columns at once using pd.concat(axis=1) instead. To get a de-fragmented frame, use `newframe = frame.copy()`\n",
      "  df_ohe[ohe.get_feature_names_out()] = ohe_categorical_values.astype(int)\n",
      "C:\\Users\\lenovo\\AppData\\Local\\Temp\\ipykernel_45544\\1068616506.py:1: PerformanceWarning: DataFrame is highly fragmented.  This is usually the result of calling `frame.insert` many times, which has poor performance.  Consider joining all columns at once using pd.concat(axis=1) instead. To get a de-fragmented frame, use `newframe = frame.copy()`\n",
      "  df_ohe[ohe.get_feature_names_out()] = ohe_categorical_values.astype(int)\n",
      "C:\\Users\\lenovo\\AppData\\Local\\Temp\\ipykernel_45544\\1068616506.py:1: PerformanceWarning: DataFrame is highly fragmented.  This is usually the result of calling `frame.insert` many times, which has poor performance.  Consider joining all columns at once using pd.concat(axis=1) instead. To get a de-fragmented frame, use `newframe = frame.copy()`\n",
      "  df_ohe[ohe.get_feature_names_out()] = ohe_categorical_values.astype(int)\n",
      "C:\\Users\\lenovo\\AppData\\Local\\Temp\\ipykernel_45544\\1068616506.py:1: PerformanceWarning: DataFrame is highly fragmented.  This is usually the result of calling `frame.insert` many times, which has poor performance.  Consider joining all columns at once using pd.concat(axis=1) instead. To get a de-fragmented frame, use `newframe = frame.copy()`\n",
      "  df_ohe[ohe.get_feature_names_out()] = ohe_categorical_values.astype(int)\n",
      "C:\\Users\\lenovo\\AppData\\Local\\Temp\\ipykernel_45544\\1068616506.py:1: PerformanceWarning: DataFrame is highly fragmented.  This is usually the result of calling `frame.insert` many times, which has poor performance.  Consider joining all columns at once using pd.concat(axis=1) instead. To get a de-fragmented frame, use `newframe = frame.copy()`\n",
      "  df_ohe[ohe.get_feature_names_out()] = ohe_categorical_values.astype(int)\n",
      "C:\\Users\\lenovo\\AppData\\Local\\Temp\\ipykernel_45544\\1068616506.py:1: PerformanceWarning: DataFrame is highly fragmented.  This is usually the result of calling `frame.insert` many times, which has poor performance.  Consider joining all columns at once using pd.concat(axis=1) instead. To get a de-fragmented frame, use `newframe = frame.copy()`\n",
      "  df_ohe[ohe.get_feature_names_out()] = ohe_categorical_values.astype(int)\n",
      "C:\\Users\\lenovo\\AppData\\Local\\Temp\\ipykernel_45544\\1068616506.py:1: PerformanceWarning: DataFrame is highly fragmented.  This is usually the result of calling `frame.insert` many times, which has poor performance.  Consider joining all columns at once using pd.concat(axis=1) instead. To get a de-fragmented frame, use `newframe = frame.copy()`\n",
      "  df_ohe[ohe.get_feature_names_out()] = ohe_categorical_values.astype(int)\n",
      "C:\\Users\\lenovo\\AppData\\Local\\Temp\\ipykernel_45544\\1068616506.py:1: PerformanceWarning: DataFrame is highly fragmented.  This is usually the result of calling `frame.insert` many times, which has poor performance.  Consider joining all columns at once using pd.concat(axis=1) instead. To get a de-fragmented frame, use `newframe = frame.copy()`\n",
      "  df_ohe[ohe.get_feature_names_out()] = ohe_categorical_values.astype(int)\n",
      "C:\\Users\\lenovo\\AppData\\Local\\Temp\\ipykernel_45544\\1068616506.py:1: PerformanceWarning: DataFrame is highly fragmented.  This is usually the result of calling `frame.insert` many times, which has poor performance.  Consider joining all columns at once using pd.concat(axis=1) instead. To get a de-fragmented frame, use `newframe = frame.copy()`\n",
      "  df_ohe[ohe.get_feature_names_out()] = ohe_categorical_values.astype(int)\n",
      "C:\\Users\\lenovo\\AppData\\Local\\Temp\\ipykernel_45544\\1068616506.py:1: PerformanceWarning: DataFrame is highly fragmented.  This is usually the result of calling `frame.insert` many times, which has poor performance.  Consider joining all columns at once using pd.concat(axis=1) instead. To get a de-fragmented frame, use `newframe = frame.copy()`\n",
      "  df_ohe[ohe.get_feature_names_out()] = ohe_categorical_values.astype(int)\n",
      "C:\\Users\\lenovo\\AppData\\Local\\Temp\\ipykernel_45544\\1068616506.py:1: PerformanceWarning: DataFrame is highly fragmented.  This is usually the result of calling `frame.insert` many times, which has poor performance.  Consider joining all columns at once using pd.concat(axis=1) instead. To get a de-fragmented frame, use `newframe = frame.copy()`\n",
      "  df_ohe[ohe.get_feature_names_out()] = ohe_categorical_values.astype(int)\n",
      "C:\\Users\\lenovo\\AppData\\Local\\Temp\\ipykernel_45544\\1068616506.py:1: PerformanceWarning: DataFrame is highly fragmented.  This is usually the result of calling `frame.insert` many times, which has poor performance.  Consider joining all columns at once using pd.concat(axis=1) instead. To get a de-fragmented frame, use `newframe = frame.copy()`\n",
      "  df_ohe[ohe.get_feature_names_out()] = ohe_categorical_values.astype(int)\n",
      "C:\\Users\\lenovo\\AppData\\Local\\Temp\\ipykernel_45544\\1068616506.py:1: PerformanceWarning: DataFrame is highly fragmented.  This is usually the result of calling `frame.insert` many times, which has poor performance.  Consider joining all columns at once using pd.concat(axis=1) instead. To get a de-fragmented frame, use `newframe = frame.copy()`\n",
      "  df_ohe[ohe.get_feature_names_out()] = ohe_categorical_values.astype(int)\n"
     ]
    },
    {
     "name": "stderr",
     "output_type": "stream",
     "text": [
      "C:\\Users\\lenovo\\AppData\\Local\\Temp\\ipykernel_45544\\1068616506.py:1: PerformanceWarning: DataFrame is highly fragmented.  This is usually the result of calling `frame.insert` many times, which has poor performance.  Consider joining all columns at once using pd.concat(axis=1) instead. To get a de-fragmented frame, use `newframe = frame.copy()`\n",
      "  df_ohe[ohe.get_feature_names_out()] = ohe_categorical_values.astype(int)\n",
      "C:\\Users\\lenovo\\AppData\\Local\\Temp\\ipykernel_45544\\1068616506.py:1: PerformanceWarning: DataFrame is highly fragmented.  This is usually the result of calling `frame.insert` many times, which has poor performance.  Consider joining all columns at once using pd.concat(axis=1) instead. To get a de-fragmented frame, use `newframe = frame.copy()`\n",
      "  df_ohe[ohe.get_feature_names_out()] = ohe_categorical_values.astype(int)\n",
      "C:\\Users\\lenovo\\AppData\\Local\\Temp\\ipykernel_45544\\1068616506.py:1: PerformanceWarning: DataFrame is highly fragmented.  This is usually the result of calling `frame.insert` many times, which has poor performance.  Consider joining all columns at once using pd.concat(axis=1) instead. To get a de-fragmented frame, use `newframe = frame.copy()`\n",
      "  df_ohe[ohe.get_feature_names_out()] = ohe_categorical_values.astype(int)\n",
      "C:\\Users\\lenovo\\AppData\\Local\\Temp\\ipykernel_45544\\1068616506.py:1: PerformanceWarning: DataFrame is highly fragmented.  This is usually the result of calling `frame.insert` many times, which has poor performance.  Consider joining all columns at once using pd.concat(axis=1) instead. To get a de-fragmented frame, use `newframe = frame.copy()`\n",
      "  df_ohe[ohe.get_feature_names_out()] = ohe_categorical_values.astype(int)\n",
      "C:\\Users\\lenovo\\AppData\\Local\\Temp\\ipykernel_45544\\1068616506.py:1: PerformanceWarning: DataFrame is highly fragmented.  This is usually the result of calling `frame.insert` many times, which has poor performance.  Consider joining all columns at once using pd.concat(axis=1) instead. To get a de-fragmented frame, use `newframe = frame.copy()`\n",
      "  df_ohe[ohe.get_feature_names_out()] = ohe_categorical_values.astype(int)\n",
      "C:\\Users\\lenovo\\AppData\\Local\\Temp\\ipykernel_45544\\1068616506.py:1: PerformanceWarning: DataFrame is highly fragmented.  This is usually the result of calling `frame.insert` many times, which has poor performance.  Consider joining all columns at once using pd.concat(axis=1) instead. To get a de-fragmented frame, use `newframe = frame.copy()`\n",
      "  df_ohe[ohe.get_feature_names_out()] = ohe_categorical_values.astype(int)\n",
      "C:\\Users\\lenovo\\AppData\\Local\\Temp\\ipykernel_45544\\1068616506.py:1: PerformanceWarning: DataFrame is highly fragmented.  This is usually the result of calling `frame.insert` many times, which has poor performance.  Consider joining all columns at once using pd.concat(axis=1) instead. To get a de-fragmented frame, use `newframe = frame.copy()`\n",
      "  df_ohe[ohe.get_feature_names_out()] = ohe_categorical_values.astype(int)\n",
      "C:\\Users\\lenovo\\AppData\\Local\\Temp\\ipykernel_45544\\1068616506.py:1: PerformanceWarning: DataFrame is highly fragmented.  This is usually the result of calling `frame.insert` many times, which has poor performance.  Consider joining all columns at once using pd.concat(axis=1) instead. To get a de-fragmented frame, use `newframe = frame.copy()`\n",
      "  df_ohe[ohe.get_feature_names_out()] = ohe_categorical_values.astype(int)\n",
      "C:\\Users\\lenovo\\AppData\\Local\\Temp\\ipykernel_45544\\1068616506.py:1: PerformanceWarning: DataFrame is highly fragmented.  This is usually the result of calling `frame.insert` many times, which has poor performance.  Consider joining all columns at once using pd.concat(axis=1) instead. To get a de-fragmented frame, use `newframe = frame.copy()`\n",
      "  df_ohe[ohe.get_feature_names_out()] = ohe_categorical_values.astype(int)\n",
      "C:\\Users\\lenovo\\AppData\\Local\\Temp\\ipykernel_45544\\1068616506.py:1: PerformanceWarning: DataFrame is highly fragmented.  This is usually the result of calling `frame.insert` many times, which has poor performance.  Consider joining all columns at once using pd.concat(axis=1) instead. To get a de-fragmented frame, use `newframe = frame.copy()`\n",
      "  df_ohe[ohe.get_feature_names_out()] = ohe_categorical_values.astype(int)\n",
      "C:\\Users\\lenovo\\AppData\\Local\\Temp\\ipykernel_45544\\1068616506.py:1: PerformanceWarning: DataFrame is highly fragmented.  This is usually the result of calling `frame.insert` many times, which has poor performance.  Consider joining all columns at once using pd.concat(axis=1) instead. To get a de-fragmented frame, use `newframe = frame.copy()`\n",
      "  df_ohe[ohe.get_feature_names_out()] = ohe_categorical_values.astype(int)\n",
      "C:\\Users\\lenovo\\AppData\\Local\\Temp\\ipykernel_45544\\1068616506.py:1: PerformanceWarning: DataFrame is highly fragmented.  This is usually the result of calling `frame.insert` many times, which has poor performance.  Consider joining all columns at once using pd.concat(axis=1) instead. To get a de-fragmented frame, use `newframe = frame.copy()`\n",
      "  df_ohe[ohe.get_feature_names_out()] = ohe_categorical_values.astype(int)\n",
      "C:\\Users\\lenovo\\AppData\\Local\\Temp\\ipykernel_45544\\1068616506.py:1: PerformanceWarning: DataFrame is highly fragmented.  This is usually the result of calling `frame.insert` many times, which has poor performance.  Consider joining all columns at once using pd.concat(axis=1) instead. To get a de-fragmented frame, use `newframe = frame.copy()`\n",
      "  df_ohe[ohe.get_feature_names_out()] = ohe_categorical_values.astype(int)\n",
      "C:\\Users\\lenovo\\AppData\\Local\\Temp\\ipykernel_45544\\1068616506.py:1: PerformanceWarning: DataFrame is highly fragmented.  This is usually the result of calling `frame.insert` many times, which has poor performance.  Consider joining all columns at once using pd.concat(axis=1) instead. To get a de-fragmented frame, use `newframe = frame.copy()`\n",
      "  df_ohe[ohe.get_feature_names_out()] = ohe_categorical_values.astype(int)\n",
      "C:\\Users\\lenovo\\AppData\\Local\\Temp\\ipykernel_45544\\1068616506.py:1: PerformanceWarning: DataFrame is highly fragmented.  This is usually the result of calling `frame.insert` many times, which has poor performance.  Consider joining all columns at once using pd.concat(axis=1) instead. To get a de-fragmented frame, use `newframe = frame.copy()`\n",
      "  df_ohe[ohe.get_feature_names_out()] = ohe_categorical_values.astype(int)\n",
      "C:\\Users\\lenovo\\AppData\\Local\\Temp\\ipykernel_45544\\1068616506.py:1: PerformanceWarning: DataFrame is highly fragmented.  This is usually the result of calling `frame.insert` many times, which has poor performance.  Consider joining all columns at once using pd.concat(axis=1) instead. To get a de-fragmented frame, use `newframe = frame.copy()`\n",
      "  df_ohe[ohe.get_feature_names_out()] = ohe_categorical_values.astype(int)\n",
      "C:\\Users\\lenovo\\AppData\\Local\\Temp\\ipykernel_45544\\1068616506.py:1: PerformanceWarning: DataFrame is highly fragmented.  This is usually the result of calling `frame.insert` many times, which has poor performance.  Consider joining all columns at once using pd.concat(axis=1) instead. To get a de-fragmented frame, use `newframe = frame.copy()`\n",
      "  df_ohe[ohe.get_feature_names_out()] = ohe_categorical_values.astype(int)\n",
      "C:\\Users\\lenovo\\AppData\\Local\\Temp\\ipykernel_45544\\1068616506.py:1: PerformanceWarning: DataFrame is highly fragmented.  This is usually the result of calling `frame.insert` many times, which has poor performance.  Consider joining all columns at once using pd.concat(axis=1) instead. To get a de-fragmented frame, use `newframe = frame.copy()`\n",
      "  df_ohe[ohe.get_feature_names_out()] = ohe_categorical_values.astype(int)\n",
      "C:\\Users\\lenovo\\AppData\\Local\\Temp\\ipykernel_45544\\1068616506.py:1: PerformanceWarning: DataFrame is highly fragmented.  This is usually the result of calling `frame.insert` many times, which has poor performance.  Consider joining all columns at once using pd.concat(axis=1) instead. To get a de-fragmented frame, use `newframe = frame.copy()`\n",
      "  df_ohe[ohe.get_feature_names_out()] = ohe_categorical_values.astype(int)\n",
      "C:\\Users\\lenovo\\AppData\\Local\\Temp\\ipykernel_45544\\1068616506.py:1: PerformanceWarning: DataFrame is highly fragmented.  This is usually the result of calling `frame.insert` many times, which has poor performance.  Consider joining all columns at once using pd.concat(axis=1) instead. To get a de-fragmented frame, use `newframe = frame.copy()`\n",
      "  df_ohe[ohe.get_feature_names_out()] = ohe_categorical_values.astype(int)\n",
      "C:\\Users\\lenovo\\AppData\\Local\\Temp\\ipykernel_45544\\1068616506.py:1: PerformanceWarning: DataFrame is highly fragmented.  This is usually the result of calling `frame.insert` many times, which has poor performance.  Consider joining all columns at once using pd.concat(axis=1) instead. To get a de-fragmented frame, use `newframe = frame.copy()`\n",
      "  df_ohe[ohe.get_feature_names_out()] = ohe_categorical_values.astype(int)\n",
      "C:\\Users\\lenovo\\AppData\\Local\\Temp\\ipykernel_45544\\1068616506.py:1: PerformanceWarning: DataFrame is highly fragmented.  This is usually the result of calling `frame.insert` many times, which has poor performance.  Consider joining all columns at once using pd.concat(axis=1) instead. To get a de-fragmented frame, use `newframe = frame.copy()`\n",
      "  df_ohe[ohe.get_feature_names_out()] = ohe_categorical_values.astype(int)\n",
      "C:\\Users\\lenovo\\AppData\\Local\\Temp\\ipykernel_45544\\1068616506.py:1: PerformanceWarning: DataFrame is highly fragmented.  This is usually the result of calling `frame.insert` many times, which has poor performance.  Consider joining all columns at once using pd.concat(axis=1) instead. To get a de-fragmented frame, use `newframe = frame.copy()`\n",
      "  df_ohe[ohe.get_feature_names_out()] = ohe_categorical_values.astype(int)\n",
      "C:\\Users\\lenovo\\AppData\\Local\\Temp\\ipykernel_45544\\1068616506.py:1: PerformanceWarning: DataFrame is highly fragmented.  This is usually the result of calling `frame.insert` many times, which has poor performance.  Consider joining all columns at once using pd.concat(axis=1) instead. To get a de-fragmented frame, use `newframe = frame.copy()`\n",
      "  df_ohe[ohe.get_feature_names_out()] = ohe_categorical_values.astype(int)\n",
      "C:\\Users\\lenovo\\AppData\\Local\\Temp\\ipykernel_45544\\1068616506.py:1: PerformanceWarning: DataFrame is highly fragmented.  This is usually the result of calling `frame.insert` many times, which has poor performance.  Consider joining all columns at once using pd.concat(axis=1) instead. To get a de-fragmented frame, use `newframe = frame.copy()`\n",
      "  df_ohe[ohe.get_feature_names_out()] = ohe_categorical_values.astype(int)\n",
      "C:\\Users\\lenovo\\AppData\\Local\\Temp\\ipykernel_45544\\1068616506.py:1: PerformanceWarning: DataFrame is highly fragmented.  This is usually the result of calling `frame.insert` many times, which has poor performance.  Consider joining all columns at once using pd.concat(axis=1) instead. To get a de-fragmented frame, use `newframe = frame.copy()`\n",
      "  df_ohe[ohe.get_feature_names_out()] = ohe_categorical_values.astype(int)\n",
      "C:\\Users\\lenovo\\AppData\\Local\\Temp\\ipykernel_45544\\1068616506.py:1: PerformanceWarning: DataFrame is highly fragmented.  This is usually the result of calling `frame.insert` many times, which has poor performance.  Consider joining all columns at once using pd.concat(axis=1) instead. To get a de-fragmented frame, use `newframe = frame.copy()`\n",
      "  df_ohe[ohe.get_feature_names_out()] = ohe_categorical_values.astype(int)\n"
     ]
    },
    {
     "name": "stderr",
     "output_type": "stream",
     "text": [
      "C:\\Users\\lenovo\\AppData\\Local\\Temp\\ipykernel_45544\\1068616506.py:1: PerformanceWarning: DataFrame is highly fragmented.  This is usually the result of calling `frame.insert` many times, which has poor performance.  Consider joining all columns at once using pd.concat(axis=1) instead. To get a de-fragmented frame, use `newframe = frame.copy()`\n",
      "  df_ohe[ohe.get_feature_names_out()] = ohe_categorical_values.astype(int)\n",
      "C:\\Users\\lenovo\\AppData\\Local\\Temp\\ipykernel_45544\\1068616506.py:1: PerformanceWarning: DataFrame is highly fragmented.  This is usually the result of calling `frame.insert` many times, which has poor performance.  Consider joining all columns at once using pd.concat(axis=1) instead. To get a de-fragmented frame, use `newframe = frame.copy()`\n",
      "  df_ohe[ohe.get_feature_names_out()] = ohe_categorical_values.astype(int)\n",
      "C:\\Users\\lenovo\\AppData\\Local\\Temp\\ipykernel_45544\\1068616506.py:1: PerformanceWarning: DataFrame is highly fragmented.  This is usually the result of calling `frame.insert` many times, which has poor performance.  Consider joining all columns at once using pd.concat(axis=1) instead. To get a de-fragmented frame, use `newframe = frame.copy()`\n",
      "  df_ohe[ohe.get_feature_names_out()] = ohe_categorical_values.astype(int)\n",
      "C:\\Users\\lenovo\\AppData\\Local\\Temp\\ipykernel_45544\\1068616506.py:1: PerformanceWarning: DataFrame is highly fragmented.  This is usually the result of calling `frame.insert` many times, which has poor performance.  Consider joining all columns at once using pd.concat(axis=1) instead. To get a de-fragmented frame, use `newframe = frame.copy()`\n",
      "  df_ohe[ohe.get_feature_names_out()] = ohe_categorical_values.astype(int)\n",
      "C:\\Users\\lenovo\\AppData\\Local\\Temp\\ipykernel_45544\\1068616506.py:1: PerformanceWarning: DataFrame is highly fragmented.  This is usually the result of calling `frame.insert` many times, which has poor performance.  Consider joining all columns at once using pd.concat(axis=1) instead. To get a de-fragmented frame, use `newframe = frame.copy()`\n",
      "  df_ohe[ohe.get_feature_names_out()] = ohe_categorical_values.astype(int)\n",
      "C:\\Users\\lenovo\\AppData\\Local\\Temp\\ipykernel_45544\\1068616506.py:1: PerformanceWarning: DataFrame is highly fragmented.  This is usually the result of calling `frame.insert` many times, which has poor performance.  Consider joining all columns at once using pd.concat(axis=1) instead. To get a de-fragmented frame, use `newframe = frame.copy()`\n",
      "  df_ohe[ohe.get_feature_names_out()] = ohe_categorical_values.astype(int)\n",
      "C:\\Users\\lenovo\\AppData\\Local\\Temp\\ipykernel_45544\\1068616506.py:1: PerformanceWarning: DataFrame is highly fragmented.  This is usually the result of calling `frame.insert` many times, which has poor performance.  Consider joining all columns at once using pd.concat(axis=1) instead. To get a de-fragmented frame, use `newframe = frame.copy()`\n",
      "  df_ohe[ohe.get_feature_names_out()] = ohe_categorical_values.astype(int)\n",
      "C:\\Users\\lenovo\\AppData\\Local\\Temp\\ipykernel_45544\\1068616506.py:1: PerformanceWarning: DataFrame is highly fragmented.  This is usually the result of calling `frame.insert` many times, which has poor performance.  Consider joining all columns at once using pd.concat(axis=1) instead. To get a de-fragmented frame, use `newframe = frame.copy()`\n",
      "  df_ohe[ohe.get_feature_names_out()] = ohe_categorical_values.astype(int)\n",
      "C:\\Users\\lenovo\\AppData\\Local\\Temp\\ipykernel_45544\\1068616506.py:1: PerformanceWarning: DataFrame is highly fragmented.  This is usually the result of calling `frame.insert` many times, which has poor performance.  Consider joining all columns at once using pd.concat(axis=1) instead. To get a de-fragmented frame, use `newframe = frame.copy()`\n",
      "  df_ohe[ohe.get_feature_names_out()] = ohe_categorical_values.astype(int)\n",
      "C:\\Users\\lenovo\\AppData\\Local\\Temp\\ipykernel_45544\\1068616506.py:1: PerformanceWarning: DataFrame is highly fragmented.  This is usually the result of calling `frame.insert` many times, which has poor performance.  Consider joining all columns at once using pd.concat(axis=1) instead. To get a de-fragmented frame, use `newframe = frame.copy()`\n",
      "  df_ohe[ohe.get_feature_names_out()] = ohe_categorical_values.astype(int)\n",
      "C:\\Users\\lenovo\\AppData\\Local\\Temp\\ipykernel_45544\\1068616506.py:1: PerformanceWarning: DataFrame is highly fragmented.  This is usually the result of calling `frame.insert` many times, which has poor performance.  Consider joining all columns at once using pd.concat(axis=1) instead. To get a de-fragmented frame, use `newframe = frame.copy()`\n",
      "  df_ohe[ohe.get_feature_names_out()] = ohe_categorical_values.astype(int)\n",
      "C:\\Users\\lenovo\\AppData\\Local\\Temp\\ipykernel_45544\\1068616506.py:1: PerformanceWarning: DataFrame is highly fragmented.  This is usually the result of calling `frame.insert` many times, which has poor performance.  Consider joining all columns at once using pd.concat(axis=1) instead. To get a de-fragmented frame, use `newframe = frame.copy()`\n",
      "  df_ohe[ohe.get_feature_names_out()] = ohe_categorical_values.astype(int)\n",
      "C:\\Users\\lenovo\\AppData\\Local\\Temp\\ipykernel_45544\\1068616506.py:1: PerformanceWarning: DataFrame is highly fragmented.  This is usually the result of calling `frame.insert` many times, which has poor performance.  Consider joining all columns at once using pd.concat(axis=1) instead. To get a de-fragmented frame, use `newframe = frame.copy()`\n",
      "  df_ohe[ohe.get_feature_names_out()] = ohe_categorical_values.astype(int)\n",
      "C:\\Users\\lenovo\\AppData\\Local\\Temp\\ipykernel_45544\\1068616506.py:1: PerformanceWarning: DataFrame is highly fragmented.  This is usually the result of calling `frame.insert` many times, which has poor performance.  Consider joining all columns at once using pd.concat(axis=1) instead. To get a de-fragmented frame, use `newframe = frame.copy()`\n",
      "  df_ohe[ohe.get_feature_names_out()] = ohe_categorical_values.astype(int)\n",
      "C:\\Users\\lenovo\\AppData\\Local\\Temp\\ipykernel_45544\\1068616506.py:1: PerformanceWarning: DataFrame is highly fragmented.  This is usually the result of calling `frame.insert` many times, which has poor performance.  Consider joining all columns at once using pd.concat(axis=1) instead. To get a de-fragmented frame, use `newframe = frame.copy()`\n",
      "  df_ohe[ohe.get_feature_names_out()] = ohe_categorical_values.astype(int)\n",
      "C:\\Users\\lenovo\\AppData\\Local\\Temp\\ipykernel_45544\\1068616506.py:1: PerformanceWarning: DataFrame is highly fragmented.  This is usually the result of calling `frame.insert` many times, which has poor performance.  Consider joining all columns at once using pd.concat(axis=1) instead. To get a de-fragmented frame, use `newframe = frame.copy()`\n",
      "  df_ohe[ohe.get_feature_names_out()] = ohe_categorical_values.astype(int)\n",
      "C:\\Users\\lenovo\\AppData\\Local\\Temp\\ipykernel_45544\\1068616506.py:1: PerformanceWarning: DataFrame is highly fragmented.  This is usually the result of calling `frame.insert` many times, which has poor performance.  Consider joining all columns at once using pd.concat(axis=1) instead. To get a de-fragmented frame, use `newframe = frame.copy()`\n",
      "  df_ohe[ohe.get_feature_names_out()] = ohe_categorical_values.astype(int)\n",
      "C:\\Users\\lenovo\\AppData\\Local\\Temp\\ipykernel_45544\\1068616506.py:1: PerformanceWarning: DataFrame is highly fragmented.  This is usually the result of calling `frame.insert` many times, which has poor performance.  Consider joining all columns at once using pd.concat(axis=1) instead. To get a de-fragmented frame, use `newframe = frame.copy()`\n",
      "  df_ohe[ohe.get_feature_names_out()] = ohe_categorical_values.astype(int)\n",
      "C:\\Users\\lenovo\\AppData\\Local\\Temp\\ipykernel_45544\\1068616506.py:1: PerformanceWarning: DataFrame is highly fragmented.  This is usually the result of calling `frame.insert` many times, which has poor performance.  Consider joining all columns at once using pd.concat(axis=1) instead. To get a de-fragmented frame, use `newframe = frame.copy()`\n",
      "  df_ohe[ohe.get_feature_names_out()] = ohe_categorical_values.astype(int)\n",
      "C:\\Users\\lenovo\\AppData\\Local\\Temp\\ipykernel_45544\\1068616506.py:1: PerformanceWarning: DataFrame is highly fragmented.  This is usually the result of calling `frame.insert` many times, which has poor performance.  Consider joining all columns at once using pd.concat(axis=1) instead. To get a de-fragmented frame, use `newframe = frame.copy()`\n",
      "  df_ohe[ohe.get_feature_names_out()] = ohe_categorical_values.astype(int)\n",
      "C:\\Users\\lenovo\\AppData\\Local\\Temp\\ipykernel_45544\\1068616506.py:1: PerformanceWarning: DataFrame is highly fragmented.  This is usually the result of calling `frame.insert` many times, which has poor performance.  Consider joining all columns at once using pd.concat(axis=1) instead. To get a de-fragmented frame, use `newframe = frame.copy()`\n",
      "  df_ohe[ohe.get_feature_names_out()] = ohe_categorical_values.astype(int)\n",
      "C:\\Users\\lenovo\\AppData\\Local\\Temp\\ipykernel_45544\\1068616506.py:1: PerformanceWarning: DataFrame is highly fragmented.  This is usually the result of calling `frame.insert` many times, which has poor performance.  Consider joining all columns at once using pd.concat(axis=1) instead. To get a de-fragmented frame, use `newframe = frame.copy()`\n",
      "  df_ohe[ohe.get_feature_names_out()] = ohe_categorical_values.astype(int)\n"
     ]
    },
    {
     "name": "stderr",
     "output_type": "stream",
     "text": [
      "C:\\Users\\lenovo\\AppData\\Local\\Temp\\ipykernel_45544\\1068616506.py:1: PerformanceWarning: DataFrame is highly fragmented.  This is usually the result of calling `frame.insert` many times, which has poor performance.  Consider joining all columns at once using pd.concat(axis=1) instead. To get a de-fragmented frame, use `newframe = frame.copy()`\n",
      "  df_ohe[ohe.get_feature_names_out()] = ohe_categorical_values.astype(int)\n",
      "C:\\Users\\lenovo\\AppData\\Local\\Temp\\ipykernel_45544\\1068616506.py:1: PerformanceWarning: DataFrame is highly fragmented.  This is usually the result of calling `frame.insert` many times, which has poor performance.  Consider joining all columns at once using pd.concat(axis=1) instead. To get a de-fragmented frame, use `newframe = frame.copy()`\n",
      "  df_ohe[ohe.get_feature_names_out()] = ohe_categorical_values.astype(int)\n",
      "C:\\Users\\lenovo\\AppData\\Local\\Temp\\ipykernel_45544\\1068616506.py:1: PerformanceWarning: DataFrame is highly fragmented.  This is usually the result of calling `frame.insert` many times, which has poor performance.  Consider joining all columns at once using pd.concat(axis=1) instead. To get a de-fragmented frame, use `newframe = frame.copy()`\n",
      "  df_ohe[ohe.get_feature_names_out()] = ohe_categorical_values.astype(int)\n",
      "C:\\Users\\lenovo\\AppData\\Local\\Temp\\ipykernel_45544\\1068616506.py:1: PerformanceWarning: DataFrame is highly fragmented.  This is usually the result of calling `frame.insert` many times, which has poor performance.  Consider joining all columns at once using pd.concat(axis=1) instead. To get a de-fragmented frame, use `newframe = frame.copy()`\n",
      "  df_ohe[ohe.get_feature_names_out()] = ohe_categorical_values.astype(int)\n",
      "C:\\Users\\lenovo\\AppData\\Local\\Temp\\ipykernel_45544\\1068616506.py:1: PerformanceWarning: DataFrame is highly fragmented.  This is usually the result of calling `frame.insert` many times, which has poor performance.  Consider joining all columns at once using pd.concat(axis=1) instead. To get a de-fragmented frame, use `newframe = frame.copy()`\n",
      "  df_ohe[ohe.get_feature_names_out()] = ohe_categorical_values.astype(int)\n",
      "C:\\Users\\lenovo\\AppData\\Local\\Temp\\ipykernel_45544\\1068616506.py:1: PerformanceWarning: DataFrame is highly fragmented.  This is usually the result of calling `frame.insert` many times, which has poor performance.  Consider joining all columns at once using pd.concat(axis=1) instead. To get a de-fragmented frame, use `newframe = frame.copy()`\n",
      "  df_ohe[ohe.get_feature_names_out()] = ohe_categorical_values.astype(int)\n",
      "C:\\Users\\lenovo\\AppData\\Local\\Temp\\ipykernel_45544\\1068616506.py:1: PerformanceWarning: DataFrame is highly fragmented.  This is usually the result of calling `frame.insert` many times, which has poor performance.  Consider joining all columns at once using pd.concat(axis=1) instead. To get a de-fragmented frame, use `newframe = frame.copy()`\n",
      "  df_ohe[ohe.get_feature_names_out()] = ohe_categorical_values.astype(int)\n",
      "C:\\Users\\lenovo\\AppData\\Local\\Temp\\ipykernel_45544\\1068616506.py:1: PerformanceWarning: DataFrame is highly fragmented.  This is usually the result of calling `frame.insert` many times, which has poor performance.  Consider joining all columns at once using pd.concat(axis=1) instead. To get a de-fragmented frame, use `newframe = frame.copy()`\n",
      "  df_ohe[ohe.get_feature_names_out()] = ohe_categorical_values.astype(int)\n",
      "C:\\Users\\lenovo\\AppData\\Local\\Temp\\ipykernel_45544\\1068616506.py:1: PerformanceWarning: DataFrame is highly fragmented.  This is usually the result of calling `frame.insert` many times, which has poor performance.  Consider joining all columns at once using pd.concat(axis=1) instead. To get a de-fragmented frame, use `newframe = frame.copy()`\n",
      "  df_ohe[ohe.get_feature_names_out()] = ohe_categorical_values.astype(int)\n",
      "C:\\Users\\lenovo\\AppData\\Local\\Temp\\ipykernel_45544\\1068616506.py:1: PerformanceWarning: DataFrame is highly fragmented.  This is usually the result of calling `frame.insert` many times, which has poor performance.  Consider joining all columns at once using pd.concat(axis=1) instead. To get a de-fragmented frame, use `newframe = frame.copy()`\n",
      "  df_ohe[ohe.get_feature_names_out()] = ohe_categorical_values.astype(int)\n",
      "C:\\Users\\lenovo\\AppData\\Local\\Temp\\ipykernel_45544\\1068616506.py:1: PerformanceWarning: DataFrame is highly fragmented.  This is usually the result of calling `frame.insert` many times, which has poor performance.  Consider joining all columns at once using pd.concat(axis=1) instead. To get a de-fragmented frame, use `newframe = frame.copy()`\n",
      "  df_ohe[ohe.get_feature_names_out()] = ohe_categorical_values.astype(int)\n",
      "C:\\Users\\lenovo\\AppData\\Local\\Temp\\ipykernel_45544\\1068616506.py:1: PerformanceWarning: DataFrame is highly fragmented.  This is usually the result of calling `frame.insert` many times, which has poor performance.  Consider joining all columns at once using pd.concat(axis=1) instead. To get a de-fragmented frame, use `newframe = frame.copy()`\n",
      "  df_ohe[ohe.get_feature_names_out()] = ohe_categorical_values.astype(int)\n",
      "C:\\Users\\lenovo\\AppData\\Local\\Temp\\ipykernel_45544\\1068616506.py:1: PerformanceWarning: DataFrame is highly fragmented.  This is usually the result of calling `frame.insert` many times, which has poor performance.  Consider joining all columns at once using pd.concat(axis=1) instead. To get a de-fragmented frame, use `newframe = frame.copy()`\n",
      "  df_ohe[ohe.get_feature_names_out()] = ohe_categorical_values.astype(int)\n",
      "C:\\Users\\lenovo\\AppData\\Local\\Temp\\ipykernel_45544\\1068616506.py:1: PerformanceWarning: DataFrame is highly fragmented.  This is usually the result of calling `frame.insert` many times, which has poor performance.  Consider joining all columns at once using pd.concat(axis=1) instead. To get a de-fragmented frame, use `newframe = frame.copy()`\n",
      "  df_ohe[ohe.get_feature_names_out()] = ohe_categorical_values.astype(int)\n",
      "C:\\Users\\lenovo\\AppData\\Local\\Temp\\ipykernel_45544\\1068616506.py:1: PerformanceWarning: DataFrame is highly fragmented.  This is usually the result of calling `frame.insert` many times, which has poor performance.  Consider joining all columns at once using pd.concat(axis=1) instead. To get a de-fragmented frame, use `newframe = frame.copy()`\n",
      "  df_ohe[ohe.get_feature_names_out()] = ohe_categorical_values.astype(int)\n",
      "C:\\Users\\lenovo\\AppData\\Local\\Temp\\ipykernel_45544\\1068616506.py:1: PerformanceWarning: DataFrame is highly fragmented.  This is usually the result of calling `frame.insert` many times, which has poor performance.  Consider joining all columns at once using pd.concat(axis=1) instead. To get a de-fragmented frame, use `newframe = frame.copy()`\n",
      "  df_ohe[ohe.get_feature_names_out()] = ohe_categorical_values.astype(int)\n",
      "C:\\Users\\lenovo\\AppData\\Local\\Temp\\ipykernel_45544\\1068616506.py:1: PerformanceWarning: DataFrame is highly fragmented.  This is usually the result of calling `frame.insert` many times, which has poor performance.  Consider joining all columns at once using pd.concat(axis=1) instead. To get a de-fragmented frame, use `newframe = frame.copy()`\n",
      "  df_ohe[ohe.get_feature_names_out()] = ohe_categorical_values.astype(int)\n",
      "C:\\Users\\lenovo\\AppData\\Local\\Temp\\ipykernel_45544\\1068616506.py:1: PerformanceWarning: DataFrame is highly fragmented.  This is usually the result of calling `frame.insert` many times, which has poor performance.  Consider joining all columns at once using pd.concat(axis=1) instead. To get a de-fragmented frame, use `newframe = frame.copy()`\n",
      "  df_ohe[ohe.get_feature_names_out()] = ohe_categorical_values.astype(int)\n",
      "C:\\Users\\lenovo\\AppData\\Local\\Temp\\ipykernel_45544\\1068616506.py:1: PerformanceWarning: DataFrame is highly fragmented.  This is usually the result of calling `frame.insert` many times, which has poor performance.  Consider joining all columns at once using pd.concat(axis=1) instead. To get a de-fragmented frame, use `newframe = frame.copy()`\n",
      "  df_ohe[ohe.get_feature_names_out()] = ohe_categorical_values.astype(int)\n",
      "C:\\Users\\lenovo\\AppData\\Local\\Temp\\ipykernel_45544\\1068616506.py:1: PerformanceWarning: DataFrame is highly fragmented.  This is usually the result of calling `frame.insert` many times, which has poor performance.  Consider joining all columns at once using pd.concat(axis=1) instead. To get a de-fragmented frame, use `newframe = frame.copy()`\n",
      "  df_ohe[ohe.get_feature_names_out()] = ohe_categorical_values.astype(int)\n",
      "C:\\Users\\lenovo\\AppData\\Local\\Temp\\ipykernel_45544\\1068616506.py:1: PerformanceWarning: DataFrame is highly fragmented.  This is usually the result of calling `frame.insert` many times, which has poor performance.  Consider joining all columns at once using pd.concat(axis=1) instead. To get a de-fragmented frame, use `newframe = frame.copy()`\n",
      "  df_ohe[ohe.get_feature_names_out()] = ohe_categorical_values.astype(int)\n",
      "C:\\Users\\lenovo\\AppData\\Local\\Temp\\ipykernel_45544\\1068616506.py:1: PerformanceWarning: DataFrame is highly fragmented.  This is usually the result of calling `frame.insert` many times, which has poor performance.  Consider joining all columns at once using pd.concat(axis=1) instead. To get a de-fragmented frame, use `newframe = frame.copy()`\n",
      "  df_ohe[ohe.get_feature_names_out()] = ohe_categorical_values.astype(int)\n",
      "C:\\Users\\lenovo\\AppData\\Local\\Temp\\ipykernel_45544\\1068616506.py:1: PerformanceWarning: DataFrame is highly fragmented.  This is usually the result of calling `frame.insert` many times, which has poor performance.  Consider joining all columns at once using pd.concat(axis=1) instead. To get a de-fragmented frame, use `newframe = frame.copy()`\n",
      "  df_ohe[ohe.get_feature_names_out()] = ohe_categorical_values.astype(int)\n",
      "C:\\Users\\lenovo\\AppData\\Local\\Temp\\ipykernel_45544\\1068616506.py:1: PerformanceWarning: DataFrame is highly fragmented.  This is usually the result of calling `frame.insert` many times, which has poor performance.  Consider joining all columns at once using pd.concat(axis=1) instead. To get a de-fragmented frame, use `newframe = frame.copy()`\n",
      "  df_ohe[ohe.get_feature_names_out()] = ohe_categorical_values.astype(int)\n"
     ]
    },
    {
     "name": "stderr",
     "output_type": "stream",
     "text": [
      "C:\\Users\\lenovo\\AppData\\Local\\Temp\\ipykernel_45544\\1068616506.py:1: PerformanceWarning: DataFrame is highly fragmented.  This is usually the result of calling `frame.insert` many times, which has poor performance.  Consider joining all columns at once using pd.concat(axis=1) instead. To get a de-fragmented frame, use `newframe = frame.copy()`\n",
      "  df_ohe[ohe.get_feature_names_out()] = ohe_categorical_values.astype(int)\n",
      "C:\\Users\\lenovo\\AppData\\Local\\Temp\\ipykernel_45544\\1068616506.py:1: PerformanceWarning: DataFrame is highly fragmented.  This is usually the result of calling `frame.insert` many times, which has poor performance.  Consider joining all columns at once using pd.concat(axis=1) instead. To get a de-fragmented frame, use `newframe = frame.copy()`\n",
      "  df_ohe[ohe.get_feature_names_out()] = ohe_categorical_values.astype(int)\n",
      "C:\\Users\\lenovo\\AppData\\Local\\Temp\\ipykernel_45544\\1068616506.py:1: PerformanceWarning: DataFrame is highly fragmented.  This is usually the result of calling `frame.insert` many times, which has poor performance.  Consider joining all columns at once using pd.concat(axis=1) instead. To get a de-fragmented frame, use `newframe = frame.copy()`\n",
      "  df_ohe[ohe.get_feature_names_out()] = ohe_categorical_values.astype(int)\n",
      "C:\\Users\\lenovo\\AppData\\Local\\Temp\\ipykernel_45544\\1068616506.py:1: PerformanceWarning: DataFrame is highly fragmented.  This is usually the result of calling `frame.insert` many times, which has poor performance.  Consider joining all columns at once using pd.concat(axis=1) instead. To get a de-fragmented frame, use `newframe = frame.copy()`\n",
      "  df_ohe[ohe.get_feature_names_out()] = ohe_categorical_values.astype(int)\n",
      "C:\\Users\\lenovo\\AppData\\Local\\Temp\\ipykernel_45544\\1068616506.py:1: PerformanceWarning: DataFrame is highly fragmented.  This is usually the result of calling `frame.insert` many times, which has poor performance.  Consider joining all columns at once using pd.concat(axis=1) instead. To get a de-fragmented frame, use `newframe = frame.copy()`\n",
      "  df_ohe[ohe.get_feature_names_out()] = ohe_categorical_values.astype(int)\n",
      "C:\\Users\\lenovo\\AppData\\Local\\Temp\\ipykernel_45544\\1068616506.py:1: PerformanceWarning: DataFrame is highly fragmented.  This is usually the result of calling `frame.insert` many times, which has poor performance.  Consider joining all columns at once using pd.concat(axis=1) instead. To get a de-fragmented frame, use `newframe = frame.copy()`\n",
      "  df_ohe[ohe.get_feature_names_out()] = ohe_categorical_values.astype(int)\n",
      "C:\\Users\\lenovo\\AppData\\Local\\Temp\\ipykernel_45544\\1068616506.py:1: PerformanceWarning: DataFrame is highly fragmented.  This is usually the result of calling `frame.insert` many times, which has poor performance.  Consider joining all columns at once using pd.concat(axis=1) instead. To get a de-fragmented frame, use `newframe = frame.copy()`\n",
      "  df_ohe[ohe.get_feature_names_out()] = ohe_categorical_values.astype(int)\n",
      "C:\\Users\\lenovo\\AppData\\Local\\Temp\\ipykernel_45544\\1068616506.py:1: PerformanceWarning: DataFrame is highly fragmented.  This is usually the result of calling `frame.insert` many times, which has poor performance.  Consider joining all columns at once using pd.concat(axis=1) instead. To get a de-fragmented frame, use `newframe = frame.copy()`\n",
      "  df_ohe[ohe.get_feature_names_out()] = ohe_categorical_values.astype(int)\n",
      "C:\\Users\\lenovo\\AppData\\Local\\Temp\\ipykernel_45544\\1068616506.py:1: PerformanceWarning: DataFrame is highly fragmented.  This is usually the result of calling `frame.insert` many times, which has poor performance.  Consider joining all columns at once using pd.concat(axis=1) instead. To get a de-fragmented frame, use `newframe = frame.copy()`\n",
      "  df_ohe[ohe.get_feature_names_out()] = ohe_categorical_values.astype(int)\n",
      "C:\\Users\\lenovo\\AppData\\Local\\Temp\\ipykernel_45544\\1068616506.py:1: PerformanceWarning: DataFrame is highly fragmented.  This is usually the result of calling `frame.insert` many times, which has poor performance.  Consider joining all columns at once using pd.concat(axis=1) instead. To get a de-fragmented frame, use `newframe = frame.copy()`\n",
      "  df_ohe[ohe.get_feature_names_out()] = ohe_categorical_values.astype(int)\n",
      "C:\\Users\\lenovo\\AppData\\Local\\Temp\\ipykernel_45544\\1068616506.py:1: PerformanceWarning: DataFrame is highly fragmented.  This is usually the result of calling `frame.insert` many times, which has poor performance.  Consider joining all columns at once using pd.concat(axis=1) instead. To get a de-fragmented frame, use `newframe = frame.copy()`\n",
      "  df_ohe[ohe.get_feature_names_out()] = ohe_categorical_values.astype(int)\n",
      "C:\\Users\\lenovo\\AppData\\Local\\Temp\\ipykernel_45544\\1068616506.py:1: PerformanceWarning: DataFrame is highly fragmented.  This is usually the result of calling `frame.insert` many times, which has poor performance.  Consider joining all columns at once using pd.concat(axis=1) instead. To get a de-fragmented frame, use `newframe = frame.copy()`\n",
      "  df_ohe[ohe.get_feature_names_out()] = ohe_categorical_values.astype(int)\n",
      "C:\\Users\\lenovo\\AppData\\Local\\Temp\\ipykernel_45544\\1068616506.py:1: PerformanceWarning: DataFrame is highly fragmented.  This is usually the result of calling `frame.insert` many times, which has poor performance.  Consider joining all columns at once using pd.concat(axis=1) instead. To get a de-fragmented frame, use `newframe = frame.copy()`\n",
      "  df_ohe[ohe.get_feature_names_out()] = ohe_categorical_values.astype(int)\n",
      "C:\\Users\\lenovo\\AppData\\Local\\Temp\\ipykernel_45544\\1068616506.py:1: PerformanceWarning: DataFrame is highly fragmented.  This is usually the result of calling `frame.insert` many times, which has poor performance.  Consider joining all columns at once using pd.concat(axis=1) instead. To get a de-fragmented frame, use `newframe = frame.copy()`\n",
      "  df_ohe[ohe.get_feature_names_out()] = ohe_categorical_values.astype(int)\n",
      "C:\\Users\\lenovo\\AppData\\Local\\Temp\\ipykernel_45544\\1068616506.py:1: PerformanceWarning: DataFrame is highly fragmented.  This is usually the result of calling `frame.insert` many times, which has poor performance.  Consider joining all columns at once using pd.concat(axis=1) instead. To get a de-fragmented frame, use `newframe = frame.copy()`\n",
      "  df_ohe[ohe.get_feature_names_out()] = ohe_categorical_values.astype(int)\n",
      "C:\\Users\\lenovo\\AppData\\Local\\Temp\\ipykernel_45544\\1068616506.py:1: PerformanceWarning: DataFrame is highly fragmented.  This is usually the result of calling `frame.insert` many times, which has poor performance.  Consider joining all columns at once using pd.concat(axis=1) instead. To get a de-fragmented frame, use `newframe = frame.copy()`\n",
      "  df_ohe[ohe.get_feature_names_out()] = ohe_categorical_values.astype(int)\n",
      "C:\\Users\\lenovo\\AppData\\Local\\Temp\\ipykernel_45544\\1068616506.py:1: PerformanceWarning: DataFrame is highly fragmented.  This is usually the result of calling `frame.insert` many times, which has poor performance.  Consider joining all columns at once using pd.concat(axis=1) instead. To get a de-fragmented frame, use `newframe = frame.copy()`\n",
      "  df_ohe[ohe.get_feature_names_out()] = ohe_categorical_values.astype(int)\n",
      "C:\\Users\\lenovo\\AppData\\Local\\Temp\\ipykernel_45544\\1068616506.py:1: PerformanceWarning: DataFrame is highly fragmented.  This is usually the result of calling `frame.insert` many times, which has poor performance.  Consider joining all columns at once using pd.concat(axis=1) instead. To get a de-fragmented frame, use `newframe = frame.copy()`\n",
      "  df_ohe[ohe.get_feature_names_out()] = ohe_categorical_values.astype(int)\n",
      "C:\\Users\\lenovo\\AppData\\Local\\Temp\\ipykernel_45544\\1068616506.py:1: PerformanceWarning: DataFrame is highly fragmented.  This is usually the result of calling `frame.insert` many times, which has poor performance.  Consider joining all columns at once using pd.concat(axis=1) instead. To get a de-fragmented frame, use `newframe = frame.copy()`\n",
      "  df_ohe[ohe.get_feature_names_out()] = ohe_categorical_values.astype(int)\n",
      "C:\\Users\\lenovo\\AppData\\Local\\Temp\\ipykernel_45544\\1068616506.py:1: PerformanceWarning: DataFrame is highly fragmented.  This is usually the result of calling `frame.insert` many times, which has poor performance.  Consider joining all columns at once using pd.concat(axis=1) instead. To get a de-fragmented frame, use `newframe = frame.copy()`\n",
      "  df_ohe[ohe.get_feature_names_out()] = ohe_categorical_values.astype(int)\n",
      "C:\\Users\\lenovo\\AppData\\Local\\Temp\\ipykernel_45544\\1068616506.py:1: PerformanceWarning: DataFrame is highly fragmented.  This is usually the result of calling `frame.insert` many times, which has poor performance.  Consider joining all columns at once using pd.concat(axis=1) instead. To get a de-fragmented frame, use `newframe = frame.copy()`\n",
      "  df_ohe[ohe.get_feature_names_out()] = ohe_categorical_values.astype(int)\n",
      "C:\\Users\\lenovo\\AppData\\Local\\Temp\\ipykernel_45544\\1068616506.py:1: PerformanceWarning: DataFrame is highly fragmented.  This is usually the result of calling `frame.insert` many times, which has poor performance.  Consider joining all columns at once using pd.concat(axis=1) instead. To get a de-fragmented frame, use `newframe = frame.copy()`\n",
      "  df_ohe[ohe.get_feature_names_out()] = ohe_categorical_values.astype(int)\n",
      "C:\\Users\\lenovo\\AppData\\Local\\Temp\\ipykernel_45544\\1068616506.py:1: PerformanceWarning: DataFrame is highly fragmented.  This is usually the result of calling `frame.insert` many times, which has poor performance.  Consider joining all columns at once using pd.concat(axis=1) instead. To get a de-fragmented frame, use `newframe = frame.copy()`\n",
      "  df_ohe[ohe.get_feature_names_out()] = ohe_categorical_values.astype(int)\n",
      "C:\\Users\\lenovo\\AppData\\Local\\Temp\\ipykernel_45544\\1068616506.py:1: PerformanceWarning: DataFrame is highly fragmented.  This is usually the result of calling `frame.insert` many times, which has poor performance.  Consider joining all columns at once using pd.concat(axis=1) instead. To get a de-fragmented frame, use `newframe = frame.copy()`\n",
      "  df_ohe[ohe.get_feature_names_out()] = ohe_categorical_values.astype(int)\n",
      "C:\\Users\\lenovo\\AppData\\Local\\Temp\\ipykernel_45544\\1068616506.py:1: PerformanceWarning: DataFrame is highly fragmented.  This is usually the result of calling `frame.insert` many times, which has poor performance.  Consider joining all columns at once using pd.concat(axis=1) instead. To get a de-fragmented frame, use `newframe = frame.copy()`\n",
      "  df_ohe[ohe.get_feature_names_out()] = ohe_categorical_values.astype(int)\n"
     ]
    }
   ],
   "source": [
    "df_ohe[ohe.get_feature_names_out()] = ohe_categorical_values.astype(int)"
   ]
  },
  {
   "cell_type": "code",
   "execution_count": 13,
   "metadata": {},
   "outputs": [],
   "source": [
    "# Удалим категориальные переменные\n",
    "df_ohe = df_ohe.drop(categorical_values, axis= 1)"
   ]
  },
  {
   "cell_type": "markdown",
   "metadata": {},
   "source": [
    "# Обучение моделей"
   ]
  },
  {
   "cell_type": "code",
   "execution_count": 14,
   "metadata": {},
   "outputs": [],
   "source": [
    "# x - фичи, y - целевая переменная\n",
    "x = df_ohe.drop(['target'], axis = 1)\n",
    "y = df_ohe.target"
   ]
  },
  {
   "cell_type": "code",
   "execution_count": 15,
   "metadata": {},
   "outputs": [],
   "source": [
    "# Разделим x и y на тестовую и тренировочную выборки\n",
    "x_train, x_test, y_train, y_test = train_test_split(x,y,test_size=0.2,random_state=42)"
   ]
  },
  {
   "cell_type": "markdown",
   "metadata": {},
   "source": [
    "## Логистическая регрессия"
   ]
  },
  {
   "cell_type": "code",
   "execution_count": 50,
   "metadata": {},
   "outputs": [],
   "source": [
    "# Объявим модель логистической регрессии с гиперпараметрами max_iter = 200, C = 2 \n",
    "logreg= LogisticRegression(verbose=True, random_state=42, max_iter = 200, C = 2)"
   ]
  },
  {
   "cell_type": "code",
   "execution_count": 51,
   "metadata": {},
   "outputs": [
    {
     "name": "stderr",
     "output_type": "stream",
     "text": [
      "[Parallel(n_jobs=1)]: Using backend SequentialBackend with 1 concurrent workers.\n",
      "C:\\Users\\lenovo\\anaconda\\lib\\site-packages\\sklearn\\linear_model\\_logistic.py:458: ConvergenceWarning: lbfgs failed to converge (status=1):\n",
      "STOP: TOTAL NO. of ITERATIONS REACHED LIMIT.\n",
      "\n",
      "Increase the number of iterations (max_iter) or scale the data as shown in:\n",
      "    https://scikit-learn.org/stable/modules/preprocessing.html\n",
      "Please also refer to the documentation for alternative solver options:\n",
      "    https://scikit-learn.org/stable/modules/linear_model.html#logistic-regression\n",
      "  n_iter_i = _check_optimize_result(\n",
      "[Parallel(n_jobs=1)]: Done   1 out of   1 | elapsed:  1.0min finished\n"
     ]
    },
    {
     "data": {
      "text/html": [
       "<style>#sk-container-id-4 {color: black;background-color: white;}#sk-container-id-4 pre{padding: 0;}#sk-container-id-4 div.sk-toggleable {background-color: white;}#sk-container-id-4 label.sk-toggleable__label {cursor: pointer;display: block;width: 100%;margin-bottom: 0;padding: 0.3em;box-sizing: border-box;text-align: center;}#sk-container-id-4 label.sk-toggleable__label-arrow:before {content: \"▸\";float: left;margin-right: 0.25em;color: #696969;}#sk-container-id-4 label.sk-toggleable__label-arrow:hover:before {color: black;}#sk-container-id-4 div.sk-estimator:hover label.sk-toggleable__label-arrow:before {color: black;}#sk-container-id-4 div.sk-toggleable__content {max-height: 0;max-width: 0;overflow: hidden;text-align: left;background-color: #f0f8ff;}#sk-container-id-4 div.sk-toggleable__content pre {margin: 0.2em;color: black;border-radius: 0.25em;background-color: #f0f8ff;}#sk-container-id-4 input.sk-toggleable__control:checked~div.sk-toggleable__content {max-height: 200px;max-width: 100%;overflow: auto;}#sk-container-id-4 input.sk-toggleable__control:checked~label.sk-toggleable__label-arrow:before {content: \"▾\";}#sk-container-id-4 div.sk-estimator input.sk-toggleable__control:checked~label.sk-toggleable__label {background-color: #d4ebff;}#sk-container-id-4 div.sk-label input.sk-toggleable__control:checked~label.sk-toggleable__label {background-color: #d4ebff;}#sk-container-id-4 input.sk-hidden--visually {border: 0;clip: rect(1px 1px 1px 1px);clip: rect(1px, 1px, 1px, 1px);height: 1px;margin: -1px;overflow: hidden;padding: 0;position: absolute;width: 1px;}#sk-container-id-4 div.sk-estimator {font-family: monospace;background-color: #f0f8ff;border: 1px dotted black;border-radius: 0.25em;box-sizing: border-box;margin-bottom: 0.5em;}#sk-container-id-4 div.sk-estimator:hover {background-color: #d4ebff;}#sk-container-id-4 div.sk-parallel-item::after {content: \"\";width: 100%;border-bottom: 1px solid gray;flex-grow: 1;}#sk-container-id-4 div.sk-label:hover label.sk-toggleable__label {background-color: #d4ebff;}#sk-container-id-4 div.sk-serial::before {content: \"\";position: absolute;border-left: 1px solid gray;box-sizing: border-box;top: 0;bottom: 0;left: 50%;z-index: 0;}#sk-container-id-4 div.sk-serial {display: flex;flex-direction: column;align-items: center;background-color: white;padding-right: 0.2em;padding-left: 0.2em;position: relative;}#sk-container-id-4 div.sk-item {position: relative;z-index: 1;}#sk-container-id-4 div.sk-parallel {display: flex;align-items: stretch;justify-content: center;background-color: white;position: relative;}#sk-container-id-4 div.sk-item::before, #sk-container-id-4 div.sk-parallel-item::before {content: \"\";position: absolute;border-left: 1px solid gray;box-sizing: border-box;top: 0;bottom: 0;left: 50%;z-index: -1;}#sk-container-id-4 div.sk-parallel-item {display: flex;flex-direction: column;z-index: 1;position: relative;background-color: white;}#sk-container-id-4 div.sk-parallel-item:first-child::after {align-self: flex-end;width: 50%;}#sk-container-id-4 div.sk-parallel-item:last-child::after {align-self: flex-start;width: 50%;}#sk-container-id-4 div.sk-parallel-item:only-child::after {width: 0;}#sk-container-id-4 div.sk-dashed-wrapped {border: 1px dashed gray;margin: 0 0.4em 0.5em 0.4em;box-sizing: border-box;padding-bottom: 0.4em;background-color: white;}#sk-container-id-4 div.sk-label label {font-family: monospace;font-weight: bold;display: inline-block;line-height: 1.2em;}#sk-container-id-4 div.sk-label-container {text-align: center;}#sk-container-id-4 div.sk-container {/* jupyter's `normalize.less` sets `[hidden] { display: none; }` but bootstrap.min.css set `[hidden] { display: none !important; }` so we also need the `!important` here to be able to override the default hidden behavior on the sphinx rendered scikit-learn.org. See: https://github.com/scikit-learn/scikit-learn/issues/21755 */display: inline-block !important;position: relative;}#sk-container-id-4 div.sk-text-repr-fallback {display: none;}</style><div id=\"sk-container-id-4\" class=\"sk-top-container\"><div class=\"sk-text-repr-fallback\"><pre>LogisticRegression(C=2, max_iter=200, random_state=42, verbose=True)</pre><b>In a Jupyter environment, please rerun this cell to show the HTML representation or trust the notebook. <br />On GitHub, the HTML representation is unable to render, please try loading this page with nbviewer.org.</b></div><div class=\"sk-container\" hidden><div class=\"sk-item\"><div class=\"sk-estimator sk-toggleable\"><input class=\"sk-toggleable__control sk-hidden--visually\" id=\"sk-estimator-id-4\" type=\"checkbox\" checked><label for=\"sk-estimator-id-4\" class=\"sk-toggleable__label sk-toggleable__label-arrow\">LogisticRegression</label><div class=\"sk-toggleable__content\"><pre>LogisticRegression(C=2, max_iter=200, random_state=42, verbose=True)</pre></div></div></div></div></div>"
      ],
      "text/plain": [
       "LogisticRegression(C=2, max_iter=200, random_state=42, verbose=True)"
      ]
     },
     "execution_count": 51,
     "metadata": {},
     "output_type": "execute_result"
    }
   ],
   "source": [
    "logreg.fit(x_train, y_train)"
   ]
  },
  {
   "cell_type": "code",
   "execution_count": 52,
   "metadata": {},
   "outputs": [],
   "source": [
    "predicted_test_logreg = logreg.predict_proba(x_test)"
   ]
  },
  {
   "cell_type": "code",
   "execution_count": 53,
   "metadata": {},
   "outputs": [
    {
     "data": {
      "image/png": "[encoded data removed]",
      "text/plain": [
       "<Figure size 640x480 with 1 Axes>"
      ]
     },
     "metadata": {},
     "output_type": "display_data"
    }
   ],
   "source": [
    "RocCurveDisplay.from_estimator(logreg, x_test, y_test);"
   ]
  },
  {
   "cell_type": "code",
   "execution_count": 54,
   "metadata": {},
   "outputs": [
    {
     "name": "stdout",
     "output_type": "stream",
     "text": [
      "Значение метрики ROC-AUC для логистической регрессии: 0.6883\n"
     ]
    }
   ],
   "source": [
    "print('Значение метрики ROC-AUC для логистической регрессии:', round(roc_auc_score(y_test, predicted_test_logreg[:,1]), 4))"
   ]
  },
  {
   "cell_type": "markdown",
   "metadata": {},
   "source": [
    "## Случайный лес"
   ]
  },
  {
   "cell_type": "code",
   "execution_count": 16,
   "metadata": {},
   "outputs": [],
   "source": [
    "# Объявим модель случайного леса\n",
    "rf = RandomForestClassifier(bootstrap=False, n_jobs = -1, verbose= True, random_state = 42, max_depth=100, max_features='log2', min_samples_leaf=3, min_samples_split=5)"
   ]
  },
  {
   "cell_type": "code",
   "execution_count": 17,
   "metadata": {},
   "outputs": [
    {
     "name": "stderr",
     "output_type": "stream",
     "text": [
      "[Parallel(n_jobs=-1)]: Using backend ThreadingBackend with 8 concurrent workers.\n",
      "[Parallel(n_jobs=-1)]: Done  34 tasks      | elapsed:  1.5min\n",
      "[Parallel(n_jobs=-1)]: Done 100 out of 100 | elapsed:  4.2min finished\n"
     ]
    },
    {
     "data": {
      "text/html": [
       "<style>#sk-container-id-1 {color: black;background-color: white;}#sk-container-id-1 pre{padding: 0;}#sk-container-id-1 div.sk-toggleable {background-color: white;}#sk-container-id-1 label.sk-toggleable__label {cursor: pointer;display: block;width: 100%;margin-bottom: 0;padding: 0.3em;box-sizing: border-box;text-align: center;}#sk-container-id-1 label.sk-toggleable__label-arrow:before {content: \"▸\";float: left;margin-right: 0.25em;color: #696969;}#sk-container-id-1 label.sk-toggleable__label-arrow:hover:before {color: black;}#sk-container-id-1 div.sk-estimator:hover label.sk-toggleable__label-arrow:before {color: black;}#sk-container-id-1 div.sk-toggleable__content {max-height: 0;max-width: 0;overflow: hidden;text-align: left;background-color: #f0f8ff;}#sk-container-id-1 div.sk-toggleable__content pre {margin: 0.2em;color: black;border-radius: 0.25em;background-color: #f0f8ff;}#sk-container-id-1 input.sk-toggleable__control:checked~div.sk-toggleable__content {max-height: 200px;max-width: 100%;overflow: auto;}#sk-container-id-1 input.sk-toggleable__control:checked~label.sk-toggleable__label-arrow:before {content: \"▾\";}#sk-container-id-1 div.sk-estimator input.sk-toggleable__control:checked~label.sk-toggleable__label {background-color: #d4ebff;}#sk-container-id-1 div.sk-label input.sk-toggleable__control:checked~label.sk-toggleable__label {background-color: #d4ebff;}#sk-container-id-1 input.sk-hidden--visually {border: 0;clip: rect(1px 1px 1px 1px);clip: rect(1px, 1px, 1px, 1px);height: 1px;margin: -1px;overflow: hidden;padding: 0;position: absolute;width: 1px;}#sk-container-id-1 div.sk-estimator {font-family: monospace;background-color: #f0f8ff;border: 1px dotted black;border-radius: 0.25em;box-sizing: border-box;margin-bottom: 0.5em;}#sk-container-id-1 div.sk-estimator:hover {background-color: #d4ebff;}#sk-container-id-1 div.sk-parallel-item::after {content: \"\";width: 100%;border-bottom: 1px solid gray;flex-grow: 1;}#sk-container-id-1 div.sk-label:hover label.sk-toggleable__label {background-color: #d4ebff;}#sk-container-id-1 div.sk-serial::before {content: \"\";position: absolute;border-left: 1px solid gray;box-sizing: border-box;top: 0;bottom: 0;left: 50%;z-index: 0;}#sk-container-id-1 div.sk-serial {display: flex;flex-direction: column;align-items: center;background-color: white;padding-right: 0.2em;padding-left: 0.2em;position: relative;}#sk-container-id-1 div.sk-item {position: relative;z-index: 1;}#sk-container-id-1 div.sk-parallel {display: flex;align-items: stretch;justify-content: center;background-color: white;position: relative;}#sk-container-id-1 div.sk-item::before, #sk-container-id-1 div.sk-parallel-item::before {content: \"\";position: absolute;border-left: 1px solid gray;box-sizing: border-box;top: 0;bottom: 0;left: 50%;z-index: -1;}#sk-container-id-1 div.sk-parallel-item {display: flex;flex-direction: column;z-index: 1;position: relative;background-color: white;}#sk-container-id-1 div.sk-parallel-item:first-child::after {align-self: flex-end;width: 50%;}#sk-container-id-1 div.sk-parallel-item:last-child::after {align-self: flex-start;width: 50%;}#sk-container-id-1 div.sk-parallel-item:only-child::after {width: 0;}#sk-container-id-1 div.sk-dashed-wrapped {border: 1px dashed gray;margin: 0 0.4em 0.5em 0.4em;box-sizing: border-box;padding-bottom: 0.4em;background-color: white;}#sk-container-id-1 div.sk-label label {font-family: monospace;font-weight: bold;display: inline-block;line-height: 1.2em;}#sk-container-id-1 div.sk-label-container {text-align: center;}#sk-container-id-1 div.sk-container {/* jupyter's `normalize.less` sets `[hidden] { display: none; }` but bootstrap.min.css set `[hidden] { display: none !important; }` so we also need the `!important` here to be able to override the default hidden behavior on the sphinx rendered scikit-learn.org. See: https://github.com/scikit-learn/scikit-learn/issues/21755 */display: inline-block !important;position: relative;}#sk-container-id-1 div.sk-text-repr-fallback {display: none;}</style><div id=\"sk-container-id-1\" class=\"sk-top-container\"><div class=\"sk-text-repr-fallback\"><pre>RandomForestClassifier(bootstrap=False, max_depth=100, max_features=&#x27;log2&#x27;,\n",
       "                       min_samples_leaf=3, min_samples_split=5, n_jobs=-1,\n",
       "                       random_state=42, verbose=True)</pre><b>In a Jupyter environment, please rerun this cell to show the HTML representation or trust the notebook. <br />On GitHub, the HTML representation is unable to render, please try loading this page with nbviewer.org.</b></div><div class=\"sk-container\" hidden><div class=\"sk-item\"><div class=\"sk-estimator sk-toggleable\"><input class=\"sk-toggleable__control sk-hidden--visually\" id=\"sk-estimator-id-1\" type=\"checkbox\" checked><label for=\"sk-estimator-id-1\" class=\"sk-toggleable__label sk-toggleable__label-arrow\">RandomForestClassifier</label><div class=\"sk-toggleable__content\"><pre>RandomForestClassifier(bootstrap=False, max_depth=100, max_features=&#x27;log2&#x27;,\n",
       "                       min_samples_leaf=3, min_samples_split=5, n_jobs=-1,\n",
       "                       random_state=42, verbose=True)</pre></div></div></div></div></div>"
      ],
      "text/plain": [
       "RandomForestClassifier(bootstrap=False, max_depth=100, max_features='log2',\n",
       "                       min_samples_leaf=3, min_samples_split=5, n_jobs=-1,\n",
       "                       random_state=42, verbose=True)"
      ]
     },
     "execution_count": 17,
     "metadata": {},
     "output_type": "execute_result"
    }
   ],
   "source": [
    "rf.fit(x_train, y_train)"
   ]
  },
  {
   "cell_type": "code",
   "execution_count": 18,
   "metadata": {},
   "outputs": [
    {
     "name": "stderr",
     "output_type": "stream",
     "text": [
      "[Parallel(n_jobs=8)]: Using backend ThreadingBackend with 8 concurrent workers.\n",
      "[Parallel(n_jobs=8)]: Done  34 tasks      | elapsed:    1.5s\n",
      "[Parallel(n_jobs=8)]: Done 100 out of 100 | elapsed:    4.1s finished\n"
     ]
    }
   ],
   "source": [
    "predicted_test_rf = rf.predict_proba(x_test)"
   ]
  },
  {
   "cell_type": "code",
   "execution_count": 19,
   "metadata": {},
   "outputs": [
    {
     "name": "stderr",
     "output_type": "stream",
     "text": [
      "[Parallel(n_jobs=8)]: Using backend ThreadingBackend with 8 concurrent workers.\n",
      "[Parallel(n_jobs=8)]: Done  34 tasks      | elapsed:    1.4s\n",
      "[Parallel(n_jobs=8)]: Done 100 out of 100 | elapsed:    3.9s finished\n"
     ]
    },
    {
     "data": {
      "image/png": "[encoded data removed]",
      "text/plain": [
       "<Figure size 640x480 with 1 Axes>"
      ]
     },
     "metadata": {},
     "output_type": "display_data"
    }
   ],
   "source": [
    "RocCurveDisplay.from_estimator(rf, x_test, y_test);"
   ]
  },
  {
   "cell_type": "code",
   "execution_count": 20,
   "metadata": {},
   "outputs": [
    {
     "name": "stdout",
     "output_type": "stream",
     "text": [
      "Значение метрики ROC-AUC для случайного леса: 0.7077\n"
     ]
    }
   ],
   "source": [
    "print('Значение метрики ROC-AUC для случайного леса:', round(roc_auc_score(y_test, predicted_test_rf[:,1]), 4))"
   ]
  },
  {
   "cell_type": "markdown",
   "metadata": {},
   "source": [
    "## Многослойный персептрон"
   ]
  },
  {
   "cell_type": "code",
   "execution_count": 23,
   "metadata": {},
   "outputs": [],
   "source": [
    "# Объявим многослойный персептрон\n",
    "mlp = MLPClassifier(verbose= True, random_state = 42, activation = 'logistic', alpha = 0.0001, hidden_layer_sizes = (100,20))"
   ]
  },
  {
   "cell_type": "code",
   "execution_count": 24,
   "metadata": {},
   "outputs": [
    {
     "name": "stdout",
     "output_type": "stream",
     "text": [
      "Iteration 1, loss = 0.12036454\n",
      "Iteration 2, loss = 0.11810476\n",
      "Iteration 3, loss = 0.11762442\n",
      "Iteration 4, loss = 0.11729221\n",
      "Iteration 5, loss = 0.11705091\n",
      "Iteration 6, loss = 0.11689869\n",
      "Iteration 7, loss = 0.11677303\n",
      "Iteration 8, loss = 0.11665922\n",
      "Iteration 9, loss = 0.11657195\n",
      "Iteration 10, loss = 0.11647906\n",
      "Iteration 11, loss = 0.11639796\n",
      "Iteration 12, loss = 0.11632810\n",
      "Iteration 13, loss = 0.11624103\n",
      "Iteration 14, loss = 0.11616745\n",
      "Iteration 15, loss = 0.11606934\n",
      "Iteration 16, loss = 0.11602158\n",
      "Iteration 17, loss = 0.11597092\n",
      "Iteration 18, loss = 0.11589698\n",
      "Iteration 19, loss = 0.11585056\n",
      "Training loss did not improve more than tol=0.000100 for 10 consecutive epochs. Stopping.\n"
     ]
    },
    {
     "data": {
      "text/html": [
       "<style>#sk-container-id-2 {color: black;background-color: white;}#sk-container-id-2 pre{padding: 0;}#sk-container-id-2 div.sk-toggleable {background-color: white;}#sk-container-id-2 label.sk-toggleable__label {cursor: pointer;display: block;width: 100%;margin-bottom: 0;padding: 0.3em;box-sizing: border-box;text-align: center;}#sk-container-id-2 label.sk-toggleable__label-arrow:before {content: \"▸\";float: left;margin-right: 0.25em;color: #696969;}#sk-container-id-2 label.sk-toggleable__label-arrow:hover:before {color: black;}#sk-container-id-2 div.sk-estimator:hover label.sk-toggleable__label-arrow:before {color: black;}#sk-container-id-2 div.sk-toggleable__content {max-height: 0;max-width: 0;overflow: hidden;text-align: left;background-color: #f0f8ff;}#sk-container-id-2 div.sk-toggleable__content pre {margin: 0.2em;color: black;border-radius: 0.25em;background-color: #f0f8ff;}#sk-container-id-2 input.sk-toggleable__control:checked~div.sk-toggleable__content {max-height: 200px;max-width: 100%;overflow: auto;}#sk-container-id-2 input.sk-toggleable__control:checked~label.sk-toggleable__label-arrow:before {content: \"▾\";}#sk-container-id-2 div.sk-estimator input.sk-toggleable__control:checked~label.sk-toggleable__label {background-color: #d4ebff;}#sk-container-id-2 div.sk-label input.sk-toggleable__control:checked~label.sk-toggleable__label {background-color: #d4ebff;}#sk-container-id-2 input.sk-hidden--visually {border: 0;clip: rect(1px 1px 1px 1px);clip: rect(1px, 1px, 1px, 1px);height: 1px;margin: -1px;overflow: hidden;padding: 0;position: absolute;width: 1px;}#sk-container-id-2 div.sk-estimator {font-family: monospace;background-color: #f0f8ff;border: 1px dotted black;border-radius: 0.25em;box-sizing: border-box;margin-bottom: 0.5em;}#sk-container-id-2 div.sk-estimator:hover {background-color: #d4ebff;}#sk-container-id-2 div.sk-parallel-item::after {content: \"\";width: 100%;border-bottom: 1px solid gray;flex-grow: 1;}#sk-container-id-2 div.sk-label:hover label.sk-toggleable__label {background-color: #d4ebff;}#sk-container-id-2 div.sk-serial::before {content: \"\";position: absolute;border-left: 1px solid gray;box-sizing: border-box;top: 0;bottom: 0;left: 50%;z-index: 0;}#sk-container-id-2 div.sk-serial {display: flex;flex-direction: column;align-items: center;background-color: white;padding-right: 0.2em;padding-left: 0.2em;position: relative;}#sk-container-id-2 div.sk-item {position: relative;z-index: 1;}#sk-container-id-2 div.sk-parallel {display: flex;align-items: stretch;justify-content: center;background-color: white;position: relative;}#sk-container-id-2 div.sk-item::before, #sk-container-id-2 div.sk-parallel-item::before {content: \"\";position: absolute;border-left: 1px solid gray;box-sizing: border-box;top: 0;bottom: 0;left: 50%;z-index: -1;}#sk-container-id-2 div.sk-parallel-item {display: flex;flex-direction: column;z-index: 1;position: relative;background-color: white;}#sk-container-id-2 div.sk-parallel-item:first-child::after {align-self: flex-end;width: 50%;}#sk-container-id-2 div.sk-parallel-item:last-child::after {align-self: flex-start;width: 50%;}#sk-container-id-2 div.sk-parallel-item:only-child::after {width: 0;}#sk-container-id-2 div.sk-dashed-wrapped {border: 1px dashed gray;margin: 0 0.4em 0.5em 0.4em;box-sizing: border-box;padding-bottom: 0.4em;background-color: white;}#sk-container-id-2 div.sk-label label {font-family: monospace;font-weight: bold;display: inline-block;line-height: 1.2em;}#sk-container-id-2 div.sk-label-container {text-align: center;}#sk-container-id-2 div.sk-container {/* jupyter's `normalize.less` sets `[hidden] { display: none; }` but bootstrap.min.css set `[hidden] { display: none !important; }` so we also need the `!important` here to be able to override the default hidden behavior on the sphinx rendered scikit-learn.org. See: https://github.com/scikit-learn/scikit-learn/issues/21755 */display: inline-block !important;position: relative;}#sk-container-id-2 div.sk-text-repr-fallback {display: none;}</style><div id=\"sk-container-id-2\" class=\"sk-top-container\"><div class=\"sk-text-repr-fallback\"><pre>MLPClassifier(activation=&#x27;logistic&#x27;, hidden_layer_sizes=(100, 20),\n",
       "              random_state=42, verbose=True)</pre><b>In a Jupyter environment, please rerun this cell to show the HTML representation or trust the notebook. <br />On GitHub, the HTML representation is unable to render, please try loading this page with nbviewer.org.</b></div><div class=\"sk-container\" hidden><div class=\"sk-item\"><div class=\"sk-estimator sk-toggleable\"><input class=\"sk-toggleable__control sk-hidden--visually\" id=\"sk-estimator-id-2\" type=\"checkbox\" checked><label for=\"sk-estimator-id-2\" class=\"sk-toggleable__label sk-toggleable__label-arrow\">MLPClassifier</label><div class=\"sk-toggleable__content\"><pre>MLPClassifier(activation=&#x27;logistic&#x27;, hidden_layer_sizes=(100, 20),\n",
       "              random_state=42, verbose=True)</pre></div></div></div></div></div>"
      ],
      "text/plain": [
       "MLPClassifier(activation='logistic', hidden_layer_sizes=(100, 20),\n",
       "              random_state=42, verbose=True)"
      ]
     },
     "execution_count": 24,
     "metadata": {},
     "output_type": "execute_result"
    }
   ],
   "source": [
    "mlp.fit(x_train, y_train)"
   ]
  },
  {
   "cell_type": "code",
   "execution_count": 25,
   "metadata": {},
   "outputs": [],
   "source": [
    "predicted_test_mlp = mlp.predict_proba(x_test)"
   ]
  },
  {
   "cell_type": "code",
   "execution_count": 26,
   "metadata": {},
   "outputs": [
    {
     "data": {
      "image/png": "[encoded data removed]",
      "text/plain": [
       "<Figure size 640x480 with 1 Axes>"
      ]
     },
     "metadata": {},
     "output_type": "display_data"
    }
   ],
   "source": [
    "RocCurveDisplay.from_estimator(mlp, x_test, y_test);"
   ]
  },
  {
   "cell_type": "code",
   "execution_count": null,
   "metadata": {},
   "outputs": [
    {
     "name": "stdout",
     "output_type": "stream",
     "text": [
      "Значение метрики ROC-AUC для случайного леса: 0.7088\n"
     ]
    }
   ],
   "source": [
    "print('Значение метрики ROC-AUC для многослойного персептрона:', round(roc_auc_score(y_test, predicted_test_mlp[:,1]), 4))"
   ]
  }
 ],
 "metadata": {
  "kernelspec": {
   "display_name": "Python 3 (ipykernel)",
   "language": "python",
   "name": "python3"
  },
  "language_info": {
   "codemirror_mode": {
    "name": "ipython",
    "version": 3
   },
   "file_extension": ".py",
   "mimetype": "text/x-python",
   "name": "python",
   "nbconvert_exporter": "python",
   "pygments_lexer": "ipython3",
   "version": "3.10.9"
  }
 },
 "nbformat": 4,
 "nbformat_minor": 2
}
